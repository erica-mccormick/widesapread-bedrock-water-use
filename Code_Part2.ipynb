{
  "nbformat": 4,
  "nbformat_minor": 0,
  "metadata": {
    "colab": {
      "name": "Code_Part2.ipynb",
      "provenance": [],
      "collapsed_sections": [
        "Lv6y0WdSMk-r",
        "JKlFrUl6Mrta",
        "ZFQrOG5xP-GB",
        "LzbLwXLxif15",
        "Zi1qh2Co0SoS",
        "FOjVeb6s32FW",
        "j3a_hAeFPmtT",
        "BKG5RjSRapGE"
      ],
      "toc_visible": true,
      "machine_shape": "hm",
      "include_colab_link": true
    },
    "kernelspec": {
      "display_name": "Python 3",
      "name": "python3"
    },
    "language_info": {
      "name": "python"
    }
  },
  "cells": [
    {
      "cell_type": "markdown",
      "metadata": {
        "id": "view-in-github",
        "colab_type": "text"
      },
      "source": [
        "<a href=\"https://colab.research.google.com/github/erica-mccormick/widespread-bedrock-water-use/blob/main/Code_Part2.ipynb\" target=\"_parent\"><img src=\"https://colab.research.google.com/assets/colab-badge.svg\" alt=\"Open In Colab\"/></a>"
      ]
    },
    {
      "cell_type": "markdown",
      "metadata": {
        "id": "54LQgssfBU1k"
      },
      "source": [
        "[![DOI](https://zenodo.org/badge/357586333.svg)](https://zenodo.org/badge/latestdoi/357586333)\n"
      ]
    },
    {
      "cell_type": "markdown",
      "metadata": {
        "id": "RfRICAHKt6_a"
      },
      "source": [
        "# **PART 2: Code for *Evidence for widespread woody plant use of water stored in bedrock***\n",
        "**Erica McCormick, David Dralle, W. Jesse Hahm, Alison Tune, Logan Schmidt, Dana Chadwick, and Daniella Rempe**\n",
        "\n",
        "---\n",
        "\n",
        "All data products are available in the [Hydroshare repository](https://doi.org/10.4211/hs.a2f0d5fd10f14cd189a3465f72cba6f3).\n",
        "\n",
        "See [Github](https://github.com/erica-mccormick/widespread-bedrock-water-use) or [Zenodo](http://doi.org/10.5281/zenodo.4904036) for Part 1 and more information on data inputs and products.\n",
        "\n",
        "For more information, see [website](https://erica-mccormick.github.io/widespread-bedrock-water-use/).\n",
        "\n",
        "---\n"
      ]
    },
    {
      "cell_type": "markdown",
      "metadata": {
        "id": "0pZXrVHow5pL"
      },
      "source": [
        "Authenticate GoogleDrive Google Earth Engine (GEE) account. First time users sign-up [here](https://earthengine.google.com/new_signup/)."
      ]
    },
    {
      "cell_type": "code",
      "metadata": {
        "colab": {
          "base_uri": "https://localhost:8080/"
        },
        "id": "gHFxvSiWcUHj",
        "outputId": "818a8e39-ba5e-4f6b-94a9-f1d7ae6380ed"
      },
      "source": [
        "from google.colab import drive\n",
        "drive.mount('/content/drive')\\"
      ],
      "execution_count": null,
      "outputs": [
        {
          "output_type": "stream",
          "text": [
            "Mounted at /content/drive\n"
          ],
          "name": "stdout"
        }
      ]
    },
    {
      "cell_type": "code",
      "metadata": {
        "cellView": "both",
        "colab": {
          "base_uri": "https://localhost:8080/"
        },
        "id": "yxBXo7unYLY1",
        "outputId": "bb661a2d-a373-4faf-c0c8-fb522f79251f"
      },
      "source": [
        "import ee\n",
        "ee.Authenticate()\n",
        "ee.Initialize()"
      ],
      "execution_count": null,
      "outputs": [
        {
          "output_type": "stream",
          "text": [
            "To authorize access needed by Earth Engine, open the following URL in a web browser and follow the instructions. If the web browser does not start automatically, please manually browse the URL below.\n",
            "\n",
            "    https://accounts.google.com/o/oauth2/auth?client_id=517222506229-vsmmajv00ul0bs7p89v5m89qs8eb9359.apps.googleusercontent.com&scope=https%3A%2F%2Fwww.googleapis.com%2Fauth%2Fearthengine+https%3A%2F%2Fwww.googleapis.com%2Fauth%2Fdevstorage.full_control&redirect_uri=urn%3Aietf%3Awg%3Aoauth%3A2.0%3Aoob&response_type=code&code_challenge=56A_l-_RxGVZ_LqOaK-HZCTh3DMuXNyvOdqkAqLxbbU&code_challenge_method=S256\n",
            "\n",
            "The authorization workflow will generate a code, which you should paste in the box below. \n",
            "Enter verification code: 4/1AY0e-g6oNUj2ZnczbALr88x03UhI0tIyLfvkfVUYu-xFrTiad_BCcineDMU\n",
            "\n",
            "Successfully saved authorization token.\n"
          ],
          "name": "stdout"
        }
      ]
    },
    {
      "cell_type": "markdown",
      "metadata": {
        "id": "V4Z-_FWexYQF"
      },
      "source": [
        "### **1. GEE Asset IDs**"
      ]
    },
    {
      "cell_type": "markdown",
      "metadata": {
        "id": "KofsDLYmydjB"
      },
      "source": [
        "Public Assets"
      ]
    },
    {
      "cell_type": "code",
      "metadata": {
        "id": "pYaSonOI2C28"
      },
      "source": [
        "prism = ee.ImageCollection(\"OREGONSTATE/PRISM/AN81d\")\n",
        "pml = ee.ImageCollection(\"CAS/IGSNRR/PML/V2\")\n",
        "USGS_landcover = ee.ImageCollection(\"USGS/NLCD\")\n",
        "modis_landcover = ee.ImageCollection(\"MODIS/006/MCD12Q1\")\n",
        "snow_cover = ee.ImageCollection(\"MODIS/006/MOD10A1\").select('NDSI_Snow_Cover')\n",
        "land_cover = ee.ImageCollection(\"MODIS/006/MCD12Q1\")"
      ],
      "execution_count": null,
      "outputs": []
    },
    {
      "cell_type": "markdown",
      "metadata": {
        "id": "EL4NxLNQ2DK5"
      },
      "source": [
        "Assets generated/uploaded for this project:\n",
        "\n",
        "- - -\n",
        "* Note: Because GEE assets cannot be gauranteed as a permanent storage option, tifs are also availalbe in the Hydroshare repository. If the links to these assets no longer function, or if you prefer, please upload your own personal GEE asets based on the provided tifs and replace links below.\n",
        "\n",
        "* All assets given here have been masked with the raster \"mask_reproj.\"\n",
        "* The first chunk includes ImagesCollections of the assets produced in this project. Go to the GEE links to find more links & descriptions.\n"
      ]
    },
    {
      "cell_type": "code",
      "metadata": {
        "id": "x6gFiJR5xk9a"
      },
      "source": [
        "# Images collections:\n",
        "\n",
        "gNATSGO = ee.ImageCollection('users/ericamccormick/gNATSGO') #https://code.earthengine.google.com/?asset=users/ericamccormick/gNATSGO\n",
        "Masks = ee.ImageCollection('users/ericamccormick/masking_layers') #https://code.earthengine.google.com/?asset=users/ericamccormick/masking_layers\n",
        "Dbedrock = ee.ImageCollection('users/ericamccormick/Dbedrock') #https://code.earthengine.google.com/?asset=users/ericamccormick/Dbedrock"
      ],
      "execution_count": null,
      "outputs": []
    },
    {
      "cell_type": "code",
      "metadata": {
        "id": "zxv4pNHvzamq"
      },
      "source": [
        "#Geometries\n",
        "ca = ee.Feature(ee.FeatureCollection(\"users/daviddralle/ca_et/CA\").first())\n",
        "conus = ee.FeatureCollection('users/ericamccormick/20_RockMoisture/geometries/conus_20m')\n",
        "texas = ee.FeatureCollection('users/ericamccormick/20_RockMoisture/geometries/TX')\n",
        "\n",
        "#Dbedrock,Y\n",
        "drock04 = ee.Image('users/ericamccormick/20_RockMoisture/deficit/bedrock/Dbedrock_2004')\n",
        "drock05 = ee.Image('users/ericamccormick/20_RockMoisture/deficit/bedrock/Dbedrock_2005')\n",
        "drock06 = ee.Image('users/ericamccormick/20_RockMoisture/deficit/bedrock/Dbedrock_2006')\n",
        "drock07 = ee.Image('users/ericamccormick/20_RockMoisture/deficit/bedrock/Dbedrock_2007')\n",
        "drock08 = ee.Image('users/ericamccormick/20_RockMoisture/deficit/bedrock/Dbedrock_2008')\n",
        "drock09 = ee.Image('users/ericamccormick/20_RockMoisture/deficit/bedrock/Dbedrock_2009')\n",
        "drock10 = ee.Image('users/ericamccormick/20_RockMoisture/deficit/bedrock/Dbedrock_2010')\n",
        "drock11 = ee.Image('users/ericamccormick/20_RockMoisture/deficit/bedrock/Dbedrock_2011')\n",
        "drock12 = ee.Image('users/ericamccormick/20_RockMoisture/deficit/bedrock/Dbedrock_2012')\n",
        "drock13 = ee.Image('users/ericamccormick/20_RockMoisture/deficit/bedrock/Dbedrock_2013')\n",
        "drock14 = ee.Image('users/ericamccormick/20_RockMoisture/deficit/bedrock/Dbedrock_2014')\n",
        "drock15 = ee.Image('users/ericamccormick/20_RockMoisture/deficit/bedrock/Dbedrock_2015')\n",
        "drock16 = ee.Image('users/ericamccormick/20_RockMoisture/deficit/bedrock/Dbedrock_2016')\n",
        "drock17 = ee.Image('users/ericamccormick/20_RockMoisture/deficit/bedrock/Dbedrock_2017')\n",
        "\n",
        "#Median Dbedrock,Y\n",
        "Dbedrock_median_zeros = ee.Image('users/ericamccormick/20_RockMoisture/deficit/bedrock/Dbedrock_median')\n",
        "\n",
        "#Masks\n",
        "woodveg_x_shallowbedrock = ee.Image('users/ericamccormick/20_RockMoisture/masks/woodyVeg_x_shallowBedrock')\n",
        "woodyveg = ee.Image('users/ericamccormick/20_RockMoisture/masks/mask_woodyVeg')\n",
        "shallowbedrock = ee.Image('users/ericamccormick/20_RockMoisture/masks/mask_shallowBedrock')\n",
        "mask_reproj = ee.Image('users/ericamccormick/20_RockMoisture/masks/mask_reproj') #final mask for non-woody veg, non-shallow soil, AND ET>P\n",
        "\n",
        "#Sbedrock and Sr\n",
        "Sbedrock = ee.Image('users/ericamccormick/20_RockMoisture/deficit/bedrock/Sbedrock') \n",
        "Sr = ee.Image('users/ericamccormick/20_RockMoisture/deficit/root-zone/Sr2003_2017_Mask') #see Dralle et al., 2020 for 1 km, unmasked version. (10.5194/hess-25-2861-2021)\n",
        "\n",
        "#gNATSGO\n",
        "Ssoil = ee.Image('users/ericamccormick/20_RockMoisture/products/gNATSGO/Ssoil_500m')\n",
        "densic = ee.Image('users/ericamccormick/20_RockMoisture/products/gNATSGO/densic_weavg_lower_reprojected') # Soil Survey Staff, 2020\n",
        "paralithic = ee.Image('users/ericamccormick/20_RockMoisture/products/gNATSGO/paralithic_weavg_lower_reprojected') # Soil Survey Staff, 2020\n",
        "\n",
        "#Other\n",
        "koppen = ee.Image('users/ericamccormick/20_RockMoisture/products/Koppen_Global') # Peel et al., 2007 (https://doi.org/10.5194/hess-11-1633-2007)\n",
        "MAP = ee.Image('users/ericamccormick/MAP') # Aggregated from precipitation from Daly et al., 2008 (10.1002/joc.1688)\n",
        "MeanAnnualPET = ee.Image('users/ericamccormick/MeanAnnualPET') # Aggregated from ET from Zhang et al., 2019 (10.1016/j.rse.2018.12.031)\n",
        "CA_abovegroundbiomass = ee.Image('users/ericamccormick/aboveground_biomass_carbon_2010_scaled_CA') # Spawn et al., 2020 (https://doi.org/10.3334/ORNLDAAC/1763)\n"
      ],
      "execution_count": null,
      "outputs": []
    },
    {
      "cell_type": "markdown",
      "metadata": {
        "id": "ctHW5ykKyVOY"
      },
      "source": [
        "Imports"
      ]
    },
    {
      "cell_type": "code",
      "metadata": {
        "colab": {
          "base_uri": "https://localhost:8080/"
        },
        "id": "TduWaGqJJB2H",
        "outputId": "4eb38570-1c80-43cb-cfc0-84823f63e923"
      },
      "source": [
        "!pip install -q geopandas\n",
        "!pip install -q rasterio\n",
        "!pip install -q scikit-posthocs"
      ],
      "execution_count": null,
      "outputs": [
        {
          "output_type": "stream",
          "text": [
            "\u001b[K     |████████████████████████████████| 1.0MB 5.0MB/s \n",
            "\u001b[K     |████████████████████████████████| 6.6MB 10.9MB/s \n",
            "\u001b[K     |████████████████████████████████| 15.4MB 214kB/s \n",
            "\u001b[K     |████████████████████████████████| 19.3MB 73.5MB/s \n",
            "\u001b[K     |████████████████████████████████| 51kB 3.2MB/s \n",
            "\u001b[?25h  Installing build dependencies ... \u001b[?25l\u001b[?25hdone\n",
            "  Getting requirements to build wheel ... \u001b[?25l\u001b[?25hdone\n",
            "    Preparing wheel metadata ... \u001b[?25l\u001b[?25hdone\n",
            "  Building wheel for scikit-posthocs (PEP 517) ... \u001b[?25l\u001b[?25hdone\n"
          ],
          "name": "stdout"
        }
      ]
    },
    {
      "cell_type": "code",
      "metadata": {
        "id": "8khD3Ff9RJcK"
      },
      "source": [
        "import datetime\n",
        "import pandas as pd\n",
        "import numpy as np\n",
        "import matplotlib.pyplot as plt\n",
        "import matplotlib as mpl\n",
        "from google.colab import files\n",
        "from IPython.display import Image\n",
        "import seaborn as sns\n",
        "import rasterio as rio\n",
        "from rasterio.plot import show\n",
        "import matplotlib.ticker as ticker\n",
        "import geopandas\n",
        "import requests\n",
        "from scipy import stats\n",
        "%matplotlib inline\n",
        "\n",
        "#Suppress showing dataframes in scientific notation\n",
        "pd.options.display.float_format = '{:.4f}'.format\n",
        "\n",
        "from matplotlib import rc\n",
        "rc('font',**{'family':'sans-serif','sans-serif':['Helvetica']})\n",
        "\n",
        "plt.rcParams['pdf.fonttype'] = 42\n",
        "plt.rcParams['font.size'] = 7"
      ],
      "execution_count": null,
      "outputs": []
    },
    {
      "cell_type": "markdown",
      "metadata": {
        "id": "Lv6y0WdSMk-r"
      },
      "source": [
        "## **2. Figure 2**: "
      ]
    },
    {
      "cell_type": "code",
      "metadata": {
        "id": "JQdyNeDw2vcQ"
      },
      "source": [
        "#Hydroshare repository of literature compilation\n",
        "url = 'https://www.hydroshare.org/resource/a2f0d5fd10f14cd189a3465f72cba6f3/data/contents/literature_compilation.csv'\n",
        "roots = pd.read_csv(url)"
      ],
      "execution_count": null,
      "outputs": []
    },
    {
      "cell_type": "code",
      "metadata": {
        "id": "XucYwLjkhFDX"
      },
      "source": [
        "## Extract cleaned numerical data\n",
        "papers = roots['Citation']\n",
        "root = roots['Root_Depth_NumberLine_m']\n",
        "soildepth = roots['SoilDepth_Numberline_cm']/100 # make meters to match root depth\n",
        "slope = roots['Slope_Numberline_Percent']\n",
        "lat = roots['Latitude']\n",
        "long = roots['Longitude']\n",
        "MAP = roots['MAP_Numberline_mm']"
      ],
      "execution_count": null,
      "outputs": []
    },
    {
      "cell_type": "code",
      "metadata": {
        "colab": {
          "base_uri": "https://localhost:8080/"
        },
        "id": "IBQhskRoxKNs",
        "outputId": "98416e19-878d-4fb7-fda9-1270f5462116"
      },
      "source": [
        "print('The number of observations for each group:')\n",
        "print('Rooting depth:', root.count())\n",
        "print('Soil depth:', soildepth.count())\n",
        "print('Slope:', slope.count())\n",
        "print('MAP:', MAP.count())\n",
        "print('Number of total observations, including duplicates from the same site:',lat.count())\n",
        "print('Number of sites in total:', len(lat.unique()))\n",
        "print('Number of unique papers:', len(papers.unique()))"
      ],
      "execution_count": null,
      "outputs": [
        {
          "output_type": "stream",
          "text": [
            "The number of observations for each group:\n",
            "Rooting depth: 88\n",
            "Soil depth: 99\n",
            "Slope: 75\n",
            "MAP: 115\n",
            "Number of total observations, including duplicates from the same site: 133\n",
            "Number of sites in total: 76\n",
            "Number of unique papers: 64\n"
          ],
          "name": "stdout"
        }
      ]
    },
    {
      "cell_type": "code",
      "metadata": {
        "id": "_DBADaqDBuC-"
      },
      "source": [
        "#separate lat and long with evidence of RM ET\n",
        "estimate = roots[roots['Measurement or Estimate of RM Contribution to ET?']=='Y']\n",
        "not_estimate = roots[roots['Measurement or Estimate of RM Contribution to ET?']=='N']"
      ],
      "execution_count": null,
      "outputs": []
    },
    {
      "cell_type": "code",
      "metadata": {
        "colab": {
          "base_uri": "https://localhost:8080/",
          "height": 388
        },
        "id": "jObOp9m4ARtj",
        "outputId": "c24b7d9e-3d55-49e4-f3f0-24e0989d10ae"
      },
      "source": [
        "world = geopandas.read_file(geopandas.datasets.get_path('naturalearth_lowres'))\n",
        "plt.figure(dpi=300)\n",
        "base = world.plot(figsize = (12,9),color='#e3ded1',edgecolor='#e3ded1') #f2f0eb\n",
        "plt.plot(not_estimate['Longitude'],not_estimate['Latitude'],'o',c='#00CDFF',markeredgecolor='k',markersize = '6')\n",
        "plt.plot(estimate['Longitude'],estimate['Latitude'],'o',c = '#f2a916',markeredgecolor='k',markersize = '6')\n",
        "\n",
        "plt.axis('off');\n",
        "\n",
        "plt.savefig(\"world_rir.pdf\",dpi=600)\n",
        "files.download(\"world_rir.pdf\") "
      ],
      "execution_count": null,
      "outputs": [
        {
          "output_type": "stream",
          "text": [
            "findfont: Font family ['sans-serif'] not found. Falling back to DejaVu Sans.\n"
          ],
          "name": "stderr"
        },
        {
          "output_type": "display_data",
          "data": {
            "application/javascript": [
              "\n",
              "    async function download(id, filename, size) {\n",
              "      if (!google.colab.kernel.accessAllowed) {\n",
              "        return;\n",
              "      }\n",
              "      const div = document.createElement('div');\n",
              "      const label = document.createElement('label');\n",
              "      label.textContent = `Downloading \"${filename}\": `;\n",
              "      div.appendChild(label);\n",
              "      const progress = document.createElement('progress');\n",
              "      progress.max = size;\n",
              "      div.appendChild(progress);\n",
              "      document.body.appendChild(div);\n",
              "\n",
              "      const buffers = [];\n",
              "      let downloaded = 0;\n",
              "\n",
              "      const channel = await google.colab.kernel.comms.open(id);\n",
              "      // Send a message to notify the kernel that we're ready.\n",
              "      channel.send({})\n",
              "\n",
              "      for await (const message of channel.messages) {\n",
              "        // Send a message to notify the kernel that we're ready.\n",
              "        channel.send({})\n",
              "        if (message.buffers) {\n",
              "          for (const buffer of message.buffers) {\n",
              "            buffers.push(buffer);\n",
              "            downloaded += buffer.byteLength;\n",
              "            progress.value = downloaded;\n",
              "          }\n",
              "        }\n",
              "      }\n",
              "      const blob = new Blob(buffers, {type: 'application/binary'});\n",
              "      const a = document.createElement('a');\n",
              "      a.href = window.URL.createObjectURL(blob);\n",
              "      a.download = filename;\n",
              "      div.appendChild(a);\n",
              "      a.click();\n",
              "      div.remove();\n",
              "    }\n",
              "  "
            ],
            "text/plain": [
              "<IPython.core.display.Javascript object>"
            ]
          },
          "metadata": {
            "tags": []
          }
        },
        {
          "output_type": "display_data",
          "data": {
            "application/javascript": [
              "download(\"download_9531eeff-b063-48aa-a2bd-0b21b382afcf\", \"world_rir.pdf\", 100498)"
            ],
            "text/plain": [
              "<IPython.core.display.Javascript object>"
            ]
          },
          "metadata": {
            "tags": []
          }
        },
        {
          "output_type": "display_data",
          "data": {
            "text/plain": [
              "<Figure size 1800x1200 with 0 Axes>"
            ]
          },
          "metadata": {
            "tags": []
          }
        },
        {
          "output_type": "display_data",
          "data": {
            "image/png": "[encoded data removed]",
            "text/plain": [
              "<Figure size 864x648 with 1 Axes>"
            ]
          },
          "metadata": {
            "tags": [],
            "needs_background": "light"
          }
        }
      ]
    },
    {
      "cell_type": "markdown",
      "metadata": {
        "id": "JKlFrUl6Mrta"
      },
      "source": [
        "## **3. Figures 3B & ED 7**"
      ]
    },
    {
      "cell_type": "code",
      "metadata": {
        "id": "eGF4iYvWs93H"
      },
      "source": [
        "#Hydroshare repository of literature compilation\n",
        "url = 'https://www.hydroshare.org/resource/a2f0d5fd10f14cd189a3465f72cba6f3/data/contents/literature_compilation.csv'\n",
        "roots = pd.read_csv(url)"
      ],
      "execution_count": null,
      "outputs": []
    },
    {
      "cell_type": "markdown",
      "metadata": {
        "id": "xLWoxy1Nysf9"
      },
      "source": [
        "Figure 3B:"
      ]
    },
    {
      "cell_type": "code",
      "metadata": {
        "colab": {
          "base_uri": "https://localhost:8080/",
          "height": 284
        },
        "id": "N_ANKO6HWdyh",
        "outputId": "9db200b3-3a4e-4879-bf3d-6592a00f2f53"
      },
      "source": [
        "## Extract Columns for Barplot (NOTE: Must exclude first header row manually)\n",
        "barplot = pd.DataFrame()\n",
        "barplot = roots[['Citation', 'Minimum','Maximum','Number_For_Plotting', 'Order_For_Plotting','S_soil_mm','Median_D_bedrock_mm']].copy()\n",
        "#barplot = barplot.dropna()\n",
        "barplot['S_soil_mm'] = barplot['S_soil_mm'] * -1 # Make soils negative for plotting in negative x-space\n",
        "barplot['Name'] = (barplot['Number_For_Plotting']).astype(str) # make name column string\n",
        "\n",
        "barplot = barplot[0:20]\n",
        "barplot = barplot.sort_values(by = 'Order_For_Plotting')\n",
        "barplot = barplot.dropna()\n",
        "barplot"
      ],
      "execution_count": null,
      "outputs": [
        {
          "output_type": "execute_result",
          "data": {
            "text/html": [
              "<div>\n",
              "<style scoped>\n",
              "    .dataframe tbody tr th:only-of-type {\n",
              "        vertical-align: middle;\n",
              "    }\n",
              "\n",
              "    .dataframe tbody tr th {\n",
              "        vertical-align: top;\n",
              "    }\n",
              "\n",
              "    .dataframe thead th {\n",
              "        text-align: right;\n",
              "    }\n",
              "</style>\n",
              "<table border=\"1\" class=\"dataframe\">\n",
              "  <thead>\n",
              "    <tr style=\"text-align: right;\">\n",
              "      <th></th>\n",
              "      <th>Citation</th>\n",
              "      <th>Minimum</th>\n",
              "      <th>Maximum</th>\n",
              "      <th>Number_For_Plotting</th>\n",
              "      <th>Order_For_Plotting</th>\n",
              "      <th>S_soil_mm</th>\n",
              "      <th>Median_D_bedrock_mm</th>\n",
              "      <th>Name</th>\n",
              "    </tr>\n",
              "  </thead>\n",
              "  <tbody>\n",
              "    <tr>\n",
              "      <th>0</th>\n",
              "      <td>Rempe and Dietrich, 2018</td>\n",
              "      <td>140.0000</td>\n",
              "      <td>420.0000</td>\n",
              "      <td>1)</td>\n",
              "      <td>1.0000</td>\n",
              "      <td>-138.4206</td>\n",
              "      <td>228.0000</td>\n",
              "      <td>1)</td>\n",
              "    </tr>\n",
              "    <tr>\n",
              "      <th>1</th>\n",
              "      <td>Hahm, 2020</td>\n",
              "      <td>37.0000</td>\n",
              "      <td>173.0000</td>\n",
              "      <td>2)</td>\n",
              "      <td>2.0000</td>\n",
              "      <td>-112.8634</td>\n",
              "      <td>125.0000</td>\n",
              "      <td>2)</td>\n",
              "    </tr>\n",
              "    <tr>\n",
              "      <th>3</th>\n",
              "      <td>O'Geen, 2018</td>\n",
              "      <td>44.0000</td>\n",
              "      <td>270.0000</td>\n",
              "      <td>3)</td>\n",
              "      <td>4.0000</td>\n",
              "      <td>-43.7858</td>\n",
              "      <td>392.0000</td>\n",
              "      <td>3)</td>\n",
              "    </tr>\n",
              "    <tr>\n",
              "      <th>5</th>\n",
              "      <td>Hubbert 2001b</td>\n",
              "      <td>135.0000</td>\n",
              "      <td>380.0000</td>\n",
              "      <td>4)</td>\n",
              "      <td>5.0000</td>\n",
              "      <td>-88.3264</td>\n",
              "      <td>348.0000</td>\n",
              "      <td>4)</td>\n",
              "    </tr>\n",
              "    <tr>\n",
              "      <th>10</th>\n",
              "      <td>Bornyasz, 2005</td>\n",
              "      <td>120.0000</td>\n",
              "      <td>120.0000</td>\n",
              "      <td>5)</td>\n",
              "      <td>6.0000</td>\n",
              "      <td>-69.1180</td>\n",
              "      <td>122.0000</td>\n",
              "      <td>5)</td>\n",
              "    </tr>\n",
              "    <tr>\n",
              "      <th>13</th>\n",
              "      <td>Sternberg, 1996</td>\n",
              "      <td>394.0000</td>\n",
              "      <td>406.0000</td>\n",
              "      <td>6)</td>\n",
              "      <td>8.0000</td>\n",
              "      <td>-28.2299</td>\n",
              "      <td>86.0000</td>\n",
              "      <td>6)</td>\n",
              "    </tr>\n",
              "    <tr>\n",
              "      <th>16</th>\n",
              "      <td>McCole and Stern, 2007</td>\n",
              "      <td>999.0000</td>\n",
              "      <td>999.0000</td>\n",
              "      <td>7)</td>\n",
              "      <td>10.0000</td>\n",
              "      <td>-28.3432</td>\n",
              "      <td>194.0000</td>\n",
              "      <td>7)</td>\n",
              "    </tr>\n",
              "    <tr>\n",
              "      <th>19</th>\n",
              "      <td>Schwinning, 2008</td>\n",
              "      <td>999.0000</td>\n",
              "      <td>999.0000</td>\n",
              "      <td>8)</td>\n",
              "      <td>11.0000</td>\n",
              "      <td>-30.6851</td>\n",
              "      <td>210.0000</td>\n",
              "      <td>8)</td>\n",
              "    </tr>\n",
              "  </tbody>\n",
              "</table>\n",
              "</div>"
            ],
            "text/plain": [
              "                    Citation  Minimum  ...  Median_D_bedrock_mm Name\n",
              "0   Rempe and Dietrich, 2018 140.0000  ...             228.0000   1)\n",
              "1                 Hahm, 2020  37.0000  ...             125.0000   2)\n",
              "3               O'Geen, 2018  44.0000  ...             392.0000   3)\n",
              "5              Hubbert 2001b 135.0000  ...             348.0000   4)\n",
              "10            Bornyasz, 2005 120.0000  ...             122.0000   5)\n",
              "13           Sternberg, 1996 394.0000  ...              86.0000   6)\n",
              "16    McCole and Stern, 2007 999.0000  ...             194.0000   7)\n",
              "19          Schwinning, 2008 999.0000  ...             210.0000   8)\n",
              "\n",
              "[8 rows x 8 columns]"
            ]
          },
          "metadata": {
            "tags": []
          },
          "execution_count": 50
        }
      ]
    },
    {
      "cell_type": "code",
      "metadata": {
        "id": "QaKL6yYMWezk"
      },
      "source": [
        "# Make labels for X-axis to have accurate Ssoil and Dbedrock meanings\n",
        "soillabels = list(np.arange(150, -50, step=-50))\n",
        "dlabels = list(np.arange(50, 500, step=50))\n",
        "labels = soillabels + dlabels"
      ],
      "execution_count": null,
      "outputs": []
    },
    {
      "cell_type": "markdown",
      "metadata": {
        "id": "ddfvdJEOuxJu"
      },
      "source": [
        "Plot bar graph. Brown (left) represents $S_{soil}$ (mm) and blue (right) is median $D_{bedrock}$ (mm). For site locations, see literature compilation csv or Fig 2 inset maps."
      ]
    },
    {
      "cell_type": "code",
      "metadata": {
        "colab": {
          "base_uri": "https://localhost:8080/",
          "height": 764
        },
        "id": "8ZC9lmgeYbU8",
        "outputId": "ad70df56-b5ed-42b4-d048-74b3ff1e79af"
      },
      "source": [
        "# Plot figure\n",
        "plt.figure(figsize = (3, 2.5), dpi=300)\n",
        "#plt.barh(barplot['Name'],barplot['Mean_D_bedrock_mm'], xerr = barplot['Stdev_D_bedrock_mm'], alpha=0.5, ecolor='black', capsize=3)\n",
        "plt.barh(barplot['Name'],barplot['Median_D_bedrock_mm'], alpha=0.5, ecolor='black', capsize=3)\n",
        "plt.barh(barplot['Name'],barplot['S_soil_mm'], color = '#91755a',alpha=0.5)\n",
        "\n",
        "plt.plot(barplot['Minimum'],barplot['Name'], 'o', ms=5, markerfacecolor=\"black\", markeredgecolor='black', markeredgewidth=0.5)\n",
        "plt.plot(barplot['Maximum'],barplot['Name'],'o', ms=5, markerfacecolor=\"None\", markeredgecolor='black', markeredgewidth=0.5)\n",
        "\n",
        "plt.xticks(np.arange(-150, 500, step=50), labels = labels)\n",
        "plt.xlim(-150, 450)\n",
        "plt.gca().invert_yaxis()\n",
        "plt.xticks(rotation=90)\n",
        "plt.tight_layout()\n",
        "\n",
        "## Uncomment for downloading fig\n",
        "plt.rcParams['pdf.fonttype'] = 42\n",
        "plt.savefig(\"doublebar.pdf\", transparent=True)\n",
        "files.download(\"doublebar.pdf\") "
      ],
      "execution_count": null,
      "outputs": [
        {
          "output_type": "display_data",
          "data": {
            "application/javascript": [
              "\n",
              "    async function download(id, filename, size) {\n",
              "      if (!google.colab.kernel.accessAllowed) {\n",
              "        return;\n",
              "      }\n",
              "      const div = document.createElement('div');\n",
              "      const label = document.createElement('label');\n",
              "      label.textContent = `Downloading \"${filename}\": `;\n",
              "      div.appendChild(label);\n",
              "      const progress = document.createElement('progress');\n",
              "      progress.max = size;\n",
              "      div.appendChild(progress);\n",
              "      document.body.appendChild(div);\n",
              "\n",
              "      const buffers = [];\n",
              "      let downloaded = 0;\n",
              "\n",
              "      const channel = await google.colab.kernel.comms.open(id);\n",
              "      // Send a message to notify the kernel that we're ready.\n",
              "      channel.send({})\n",
              "\n",
              "      for await (const message of channel.messages) {\n",
              "        // Send a message to notify the kernel that we're ready.\n",
              "        channel.send({})\n",
              "        if (message.buffers) {\n",
              "          for (const buffer of message.buffers) {\n",
              "            buffers.push(buffer);\n",
              "            downloaded += buffer.byteLength;\n",
              "            progress.value = downloaded;\n",
              "          }\n",
              "        }\n",
              "      }\n",
              "      const blob = new Blob(buffers, {type: 'application/binary'});\n",
              "      const a = document.createElement('a');\n",
              "      a.href = window.URL.createObjectURL(blob);\n",
              "      a.download = filename;\n",
              "      div.appendChild(a);\n",
              "      a.click();\n",
              "      div.remove();\n",
              "    }\n",
              "  "
            ],
            "text/plain": [
              "<IPython.core.display.Javascript object>"
            ]
          },
          "metadata": {
            "tags": []
          }
        },
        {
          "output_type": "display_data",
          "data": {
            "application/javascript": [
              "download(\"download_b5aecefd-3009-4ce8-819c-ce23c769cda7\", \"doublebar.pdf\", 383647)"
            ],
            "text/plain": [
              "<IPython.core.display.Javascript object>"
            ]
          },
          "metadata": {
            "tags": []
          }
        },
        {
          "output_type": "display_data",
          "data": {
            "image/png": "[encoded data removed]",
            "text/plain": [
              "<Figure size 900x750 with 1 Axes>"
            ]
          },
          "metadata": {
            "tags": [],
            "needs_background": "light"
          }
        }
      ]
    },
    {
      "cell_type": "markdown",
      "metadata": {
        "id": "8RHY0yyWa-4V"
      },
      "source": [
        "Figure ED7:"
      ]
    },
    {
      "cell_type": "code",
      "metadata": {
        "colab": {
          "base_uri": "https://localhost:8080/",
          "height": 462
        },
        "id": "pSQNJAUQIbWd",
        "outputId": "ca98f64b-7540-4ec9-b40c-db9120fef534"
      },
      "source": [
        "SI = pd.DataFrame()\n",
        "SI = roots[['Citation','S_soil_mm','Median_D_bedrock_mm','Number_For_Plotting']].copy()\n",
        "SI['S_soil_mm'] = SI['S_soil_mm'] * -1 # Make soils negative for plotting in negative x-space\n",
        "SI['Name'] = (SI['Citation'])#.astype(str) # make name column string\n",
        "SI = SI.drop_duplicates(subset='Name')\n",
        "SI = SI[SI['Number_For_Plotting'].isna()]\n",
        "del SI['Number_For_Plotting']\n",
        "SI = SI.dropna()\n",
        "SI = SI.sort_values(by = 'Median_D_bedrock_mm', ascending = False)\n",
        "SI"
      ],
      "execution_count": null,
      "outputs": [
        {
          "output_type": "execute_result",
          "data": {
            "text/html": [
              "<div>\n",
              "<style scoped>\n",
              "    .dataframe tbody tr th:only-of-type {\n",
              "        vertical-align: middle;\n",
              "    }\n",
              "\n",
              "    .dataframe tbody tr th {\n",
              "        vertical-align: top;\n",
              "    }\n",
              "\n",
              "    .dataframe thead th {\n",
              "        text-align: right;\n",
              "    }\n",
              "</style>\n",
              "<table border=\"1\" class=\"dataframe\">\n",
              "  <thead>\n",
              "    <tr style=\"text-align: right;\">\n",
              "      <th></th>\n",
              "      <th>Citation</th>\n",
              "      <th>S_soil_mm</th>\n",
              "      <th>Median_D_bedrock_mm</th>\n",
              "      <th>Name</th>\n",
              "    </tr>\n",
              "  </thead>\n",
              "  <tbody>\n",
              "    <tr>\n",
              "      <th>12</th>\n",
              "      <td>Fellows and Goulden, 2012</td>\n",
              "      <td>-35.2000</td>\n",
              "      <td>327.0000</td>\n",
              "      <td>Fellows and Goulden, 2012</td>\n",
              "    </tr>\n",
              "    <tr>\n",
              "      <th>11</th>\n",
              "      <td>Hellmers, 1995</td>\n",
              "      <td>-0.0000</td>\n",
              "      <td>269.0000</td>\n",
              "      <td>Hellmers, 1995</td>\n",
              "    </tr>\n",
              "    <tr>\n",
              "      <th>67</th>\n",
              "      <td>Zwieniecki and Newton, 1996</td>\n",
              "      <td>-150.7852</td>\n",
              "      <td>187.7148</td>\n",
              "      <td>Zwieniecki and Newton, 1996</td>\n",
              "    </tr>\n",
              "    <tr>\n",
              "      <th>18</th>\n",
              "      <td>Litvak, 2020</td>\n",
              "      <td>-30.6470</td>\n",
              "      <td>171.3530</td>\n",
              "      <td>Litvak, 2020</td>\n",
              "    </tr>\n",
              "    <tr>\n",
              "      <th>9</th>\n",
              "      <td>Arkley,1981</td>\n",
              "      <td>-124.2084</td>\n",
              "      <td>171.2916</td>\n",
              "      <td>Arkley,1981</td>\n",
              "    </tr>\n",
              "    <tr>\n",
              "      <th>2</th>\n",
              "      <td>Pedrazas, 2021</td>\n",
              "      <td>-74.2000</td>\n",
              "      <td>144.0000</td>\n",
              "      <td>Pedrazas, 2021</td>\n",
              "    </tr>\n",
              "    <tr>\n",
              "      <th>131</th>\n",
              "      <td>Dammeyer, 2016</td>\n",
              "      <td>-51.0000</td>\n",
              "      <td>123.0000</td>\n",
              "      <td>Dammeyer, 2016</td>\n",
              "    </tr>\n",
              "    <tr>\n",
              "      <th>15</th>\n",
              "      <td>Twidwell et al., 2013</td>\n",
              "      <td>-34.1315</td>\n",
              "      <td>106.0000</td>\n",
              "      <td>Twidwell et al., 2013</td>\n",
              "    </tr>\n",
              "    <tr>\n",
              "      <th>27</th>\n",
              "      <td>Davis, 1977</td>\n",
              "      <td>-32.2000</td>\n",
              "      <td>94.8000</td>\n",
              "      <td>Davis, 1977</td>\n",
              "    </tr>\n",
              "    <tr>\n",
              "      <th>130</th>\n",
              "      <td>West, 2007</td>\n",
              "      <td>-35.7466</td>\n",
              "      <td>73.7534</td>\n",
              "      <td>West, 2007</td>\n",
              "    </tr>\n",
              "    <tr>\n",
              "      <th>132</th>\n",
              "      <td>Niemeyer, 2016</td>\n",
              "      <td>-62.0000</td>\n",
              "      <td>72.0000</td>\n",
              "      <td>Niemeyer, 2016</td>\n",
              "    </tr>\n",
              "    <tr>\n",
              "      <th>119</th>\n",
              "      <td>Seyfried and Wilcox, 2006</td>\n",
              "      <td>-100.9535</td>\n",
              "      <td>53.0465</td>\n",
              "      <td>Seyfried and Wilcox, 2006</td>\n",
              "    </tr>\n",
              "    <tr>\n",
              "      <th>68</th>\n",
              "      <td>Dietrich and Dunne, 1978</td>\n",
              "      <td>-178.6588</td>\n",
              "      <td>25.3412</td>\n",
              "      <td>Dietrich and Dunne, 1978</td>\n",
              "    </tr>\n",
              "    <tr>\n",
              "      <th>128</th>\n",
              "      <td>Heimsath, 2000</td>\n",
              "      <td>-124.2520</td>\n",
              "      <td>21.2480</td>\n",
              "      <td>Heimsath, 2000</td>\n",
              "    </tr>\n",
              "  </tbody>\n",
              "</table>\n",
              "</div>"
            ],
            "text/plain": [
              "                        Citation  ...                         Name\n",
              "12     Fellows and Goulden, 2012  ...    Fellows and Goulden, 2012\n",
              "11                Hellmers, 1995  ...               Hellmers, 1995\n",
              "67   Zwieniecki and Newton, 1996  ...  Zwieniecki and Newton, 1996\n",
              "18                  Litvak, 2020  ...                 Litvak, 2020\n",
              "9                    Arkley,1981  ...                  Arkley,1981\n",
              "2                 Pedrazas, 2021  ...               Pedrazas, 2021\n",
              "131               Dammeyer, 2016  ...               Dammeyer, 2016\n",
              "15         Twidwell et al., 2013  ...        Twidwell et al., 2013\n",
              "27                   Davis, 1977  ...                  Davis, 1977\n",
              "130                   West, 2007  ...                   West, 2007\n",
              "132               Niemeyer, 2016  ...               Niemeyer, 2016\n",
              "119    Seyfried and Wilcox, 2006  ...    Seyfried and Wilcox, 2006\n",
              "68      Dietrich and Dunne, 1978  ...     Dietrich and Dunne, 1978\n",
              "128               Heimsath, 2000  ...               Heimsath, 2000\n",
              "\n",
              "[14 rows x 4 columns]"
            ]
          },
          "metadata": {
            "tags": []
          },
          "execution_count": 60
        }
      ]
    },
    {
      "cell_type": "code",
      "metadata": {
        "id": "I4P2yGlrI4oy"
      },
      "source": [
        "soillabels = list(np.arange(200, -50, step=-50))\n",
        "dlabels = list(np.arange(50, 350, step=50))\n",
        "labels = soillabels + dlabels"
      ],
      "execution_count": null,
      "outputs": []
    },
    {
      "cell_type": "code",
      "metadata": {
        "colab": {
          "base_uri": "https://localhost:8080/",
          "height": 764
        },
        "id": "unLRBF58I0n9",
        "outputId": "3ada06af-6345-42c1-b22f-a8613d7fad16"
      },
      "source": [
        "# Plot figure\n",
        "plt.figure(figsize =(3, 2.5), dpi=300)\n",
        "#plt.barh(barplot['Name'],barplot['Mean_D_bedrock_mm'], xerr = barplot['Stdev_D_bedrock_mm'], alpha=0.5, ecolor='black', capsize=3)\n",
        "plt.barh(SI['Name'],SI['Median_D_bedrock_mm'], alpha=0.5, ecolor='black', capsize=3)\n",
        "plt.barh(SI['Name'],SI['S_soil_mm'], color = '#91755a',alpha=0.5)\n",
        "\n",
        "#plt.plot(barplot['Minimum'],barplot['Name'], 'o', ms=5, markerfacecolor=\"black\", markeredgecolor='black', markeredgewidth=0.5)\n",
        "#plt.plot(barplot['Maximum'],barplot['Name'],'o', ms=5, markerfacecolor=\"None\", markeredgecolor='black', markeredgewidth=0.5)\n",
        "\n",
        "plt.xticks(np.arange(-200, 350, step=50), labels = labels)\n",
        "plt.xlim(-200, 350)\n",
        "plt.gca().invert_yaxis()\n",
        "plt.xticks(rotation=90)\n",
        "plt.tight_layout()\n",
        "\n",
        "## Uncomment for downloading fig\n",
        "plt.rcParams['pdf.fonttype'] = 42\n",
        "plt.savefig(\"SI_bar.pdf\", transparent=True)\n",
        "files.download(\"SI_bar.pdf\") "
      ],
      "execution_count": null,
      "outputs": [
        {
          "output_type": "display_data",
          "data": {
            "application/javascript": [
              "\n",
              "    async function download(id, filename, size) {\n",
              "      if (!google.colab.kernel.accessAllowed) {\n",
              "        return;\n",
              "      }\n",
              "      const div = document.createElement('div');\n",
              "      const label = document.createElement('label');\n",
              "      label.textContent = `Downloading \"${filename}\": `;\n",
              "      div.appendChild(label);\n",
              "      const progress = document.createElement('progress');\n",
              "      progress.max = size;\n",
              "      div.appendChild(progress);\n",
              "      document.body.appendChild(div);\n",
              "\n",
              "      const buffers = [];\n",
              "      let downloaded = 0;\n",
              "\n",
              "      const channel = await google.colab.kernel.comms.open(id);\n",
              "      // Send a message to notify the kernel that we're ready.\n",
              "      channel.send({})\n",
              "\n",
              "      for await (const message of channel.messages) {\n",
              "        // Send a message to notify the kernel that we're ready.\n",
              "        channel.send({})\n",
              "        if (message.buffers) {\n",
              "          for (const buffer of message.buffers) {\n",
              "            buffers.push(buffer);\n",
              "            downloaded += buffer.byteLength;\n",
              "            progress.value = downloaded;\n",
              "          }\n",
              "        }\n",
              "      }\n",
              "      const blob = new Blob(buffers, {type: 'application/binary'});\n",
              "      const a = document.createElement('a');\n",
              "      a.href = window.URL.createObjectURL(blob);\n",
              "      a.download = filename;\n",
              "      div.appendChild(a);\n",
              "      a.click();\n",
              "      div.remove();\n",
              "    }\n",
              "  "
            ],
            "text/plain": [
              "<IPython.core.display.Javascript object>"
            ]
          },
          "metadata": {
            "tags": []
          }
        },
        {
          "output_type": "display_data",
          "data": {
            "application/javascript": [
              "download(\"download_388c1651-4a6a-49cd-b55d-da873210dbfe\", \"SI_bar.pdf\", 384082)"
            ],
            "text/plain": [
              "<IPython.core.display.Javascript object>"
            ]
          },
          "metadata": {
            "tags": []
          }
        },
        {
          "output_type": "display_data",
          "data": {
            "image/png": "[encoded data removed]",
            "text/plain": [
              "<Figure size 900x750 with 1 Axes>"
            ]
          },
          "metadata": {
            "tags": [],
            "needs_background": "light"
          }
        }
      ]
    },
    {
      "cell_type": "markdown",
      "metadata": {
        "id": "ZFQrOG5xP-GB"
      },
      "source": [
        "## **4. ED6 and ED Table 1**:"
      ]
    },
    {
      "cell_type": "markdown",
      "metadata": {
        "id": "LYTliZb2OqZw"
      },
      "source": [
        "**Start here to reproduce analysis from scratch, or see below to start from .csv available in Hydroshare**"
      ]
    },
    {
      "cell_type": "code",
      "metadata": {
        "colab": {
          "base_uri": "https://localhost:8080/"
        },
        "id": "0coLaVGXsIUS",
        "outputId": "dade2e2b-c36c-4218-f770-ea679b7acc46"
      },
      "source": [
        "# Assemble 3 data products plus area into one image with 4 bands\n",
        "sbedrock = ee.Image(\"users/ericamccormick/20_RockMoisture/deficit/bedrock/Sbedrock\").select(['S_R_snow_corr'],['Sbedrock']).reproject(crs='EPSG:4326',scale=500)\n",
        "modis_landcover = ee.ImageCollection(\"MODIS/006/MCD12Q1\").sort('system:time_start', False).first().select(['LC_Type1'],['Landcover']).reproject(crs='EPSG:4326',scale=500)\n",
        "koppen = ee.Image(\"users/ericamccormick/20_RockMoisture/products/Koppen_Global\").clip(conus.geometry()).select(['b1'],['Koppen']).reproject(crs='EPSG:4326',scale=500)\n",
        "\n",
        "mask = sbedrock.gte(-50000)\n",
        "landcover_mask = modis_landcover.updateMask(mask)\n",
        "sbedrock_mask = sbedrock.updateMask(mask)\n",
        "koppen_mask = koppen.updateMask(mask)\n",
        "\n",
        "## Get band that is the area of each pixel\n",
        "area = mask.multiply(ee.Image.pixelArea()).select(['Sbedrock'],['Area'])\n",
        "\n",
        "## Combine into one image with 4 bands\n",
        "all = sbedrock_mask.addBands(landcover_mask).addBands(koppen_mask).addBands(area)\n",
        "all.bandNames().getInfo()"
      ],
      "execution_count": null,
      "outputs": [
        {
          "output_type": "execute_result",
          "data": {
            "text/plain": [
              "['Sbedrock', 'Landcover', 'Koppen', 'Area']"
            ]
          },
          "metadata": {
            "tags": []
          },
          "execution_count": 12
        }
      ]
    },
    {
      "cell_type": "markdown",
      "metadata": {
        "id": "kSxeMeM9xb5V"
      },
      "source": [
        "Export image to googleDrive and call back in (or access via Hydroshare). Exporting to drive will take ~20 minutes and you may have to merge tiled output tifs prior to importing back into this script."
      ]
    },
    {
      "cell_type": "code",
      "metadata": {
        "id": "jptQr2MdxU0C"
      },
      "source": [
        "all = all.reproject(crs='EPSG:4326',scale=500).clip(conus.geometry())\n",
        "task_config = {\n",
        "        'region': conus.geometry(),\n",
        "        'fileFormat': 'GeoTIFF',\n",
        "        'fileNamePrefix': 'Sbedrock_distributions2',\n",
        "        'image': all.toDouble(),\n",
        "        'description': 'Sbedrock_distributions2',\n",
        "        'maxPixels': 10000000000000\n",
        "    }\n",
        "\n",
        "task=ee.batch.Export.image.toDrive(**task_config)\n",
        "task.start()"
      ],
      "execution_count": null,
      "outputs": []
    },
    {
      "cell_type": "markdown",
      "metadata": {
        "id": "KQP2c74JOwdP"
      },
      "source": [
        "Next step: Replace the \"all_tif_path_1\" and \"all_tif_path_2\" links with the links to your own GoogleDrive copy of the exported \"all\" tif from GEE. There are two resulting tifs because the output was tiled by GEE. The dataframe from these final steps is available in the Hydroshare, linked below."
      ]
    },
    {
      "cell_type": "code",
      "metadata": {
        "colab": {
          "base_uri": "https://localhost:8080/"
        },
        "id": "0BigIYkoyYb2",
        "outputId": "58689f73-d732-456e-f755-5f8c856f28b5"
      },
      "source": [
        "your path = ''\n",
        "all_tif_path_1 = your_path + '/Sbedrock_distributions2-0000000000-0000000000.tif'\n",
        "\n",
        "all_tif_1 = rio.open(all_tif_path_1)\n",
        "all_array_1 = all_tif_1.read()\n",
        "print(all_array_1.shape)\n",
        "\n",
        "## Flatten each band into its own array\n",
        "sbedrock = all_array_1[0,:,:].flatten()\n",
        "modis = all_array_1[1,:,:].flatten()\n",
        "koppen = all_array_1[2,:,:].flatten()\n",
        "area = all_array_1[3,:,:].flatten()\n",
        "\n",
        "## Add each array to a dataframe\n",
        "df1 = pd.DataFrame()\n",
        "df1['Landcover'] = modis.round(0).astype(int)\n",
        "df1['Koppen'] = koppen.round(0).astype(int)\n",
        "df1['Srock'] = sbedrock\n",
        "df1['Area'] = area\n",
        "\n",
        "# Basic data cleaning\n",
        "df1 = df1.dropna()"
      ],
      "execution_count": null,
      "outputs": [
        {
          "output_type": "stream",
          "text": [
            "(4, 5538, 11776)\n"
          ],
          "name": "stdout"
        }
      ]
    },
    {
      "cell_type": "code",
      "metadata": {
        "colab": {
          "base_uri": "https://localhost:8080/"
        },
        "id": "eKDvkfnA4dt4",
        "outputId": "9b5b0fed-e85b-40bb-9a73-a1c0341bbab8"
      },
      "source": [
        "\n",
        "all_tif_path_2 = your_path + '/Sbedrock_distributions2-0000000000-0000011776.tif'\n",
        "\n",
        "all_tif_2 = rio.open(all_tif_path_2)\n",
        "all_array_2 = all_tif_2.read()\n",
        "print(all_array_2.shape)\n",
        "\n",
        "## Flatten each band into its own array\n",
        "sbedrock = all_array_2[0,:,:].flatten()\n",
        "modis = all_array_2[1,:,:].flatten()\n",
        "koppen = all_array_2[2,:,:].flatten()\n",
        "area = all_array_2[3,:,:].flatten()\n",
        "\n",
        "## Add each array to a dataframe\n",
        "df2 = pd.DataFrame()\n",
        "df2['Landcover'] = modis.round(0).astype(int)\n",
        "df2['Koppen'] = koppen.round(0).astype(int)\n",
        "df2['Srock'] = sbedrock\n",
        "df2['Area'] = area\n",
        "\n",
        "# Basic data cleaning\n",
        "df2 = df2.dropna()"
      ],
      "execution_count": null,
      "outputs": [
        {
          "output_type": "stream",
          "text": [
            "(4, 5538, 1090)\n"
          ],
          "name": "stdout"
        }
      ]
    },
    {
      "cell_type": "markdown",
      "metadata": {
        "id": "sRlyk_9NEV09"
      },
      "source": [
        "Combine two tiles that are now flattened into dfs"
      ]
    },
    {
      "cell_type": "code",
      "metadata": {
        "id": "xy3mFf5FFs3e"
      },
      "source": [
        "df = df1.append(df2)\n",
        "# Make sure there are no negative Sbedrock values\n",
        "df = df.clip(lower = 0)\n",
        "df['Area_km2'] = df['Area'] / 1e+6 #convert from m^2 to km^2\n",
        "#df.describe()"
      ],
      "execution_count": null,
      "outputs": []
    },
    {
      "cell_type": "markdown",
      "metadata": {
        "id": "SDhvTRPgHzIf"
      },
      "source": [
        "Can export dataframe to drive for saving, or use version stored in Hydroshare:"
      ]
    },
    {
      "cell_type": "code",
      "metadata": {
        "id": "QYdpvyYdHYgG"
      },
      "source": [
        "# Write the DataFrame to CSV file.\n",
        "with open('/content/drive/MyDrive/df_fig4.csv', 'w') as f:\n",
        "  df.to_csv(f)"
      ],
      "execution_count": null,
      "outputs": []
    },
    {
      "cell_type": "markdown",
      "metadata": {
        "id": "wYKk7fO2Hs8x"
      },
      "source": [
        "**Begin here if using Hydroshare csv:**"
      ]
    },
    {
      "cell_type": "code",
      "metadata": {
        "id": "Tff0hzofHxaW"
      },
      "source": [
        "figED6_url = 'https://www.hydroshare.org/resource/a2f0d5fd10f14cd189a3465f72cba6f3/data/contents/cvs_for_plotting/df_ED6.csv'\n",
        "df = pd.read_csv(figED6_url)"
      ],
      "execution_count": null,
      "outputs": []
    },
    {
      "cell_type": "markdown",
      "metadata": {
        "id": "ldEb6jUe9Xb_"
      },
      "source": [
        "Get groups together, assemble plot aesthetics information, and cull groups with small areas (<2 sq km)"
      ]
    },
    {
      "cell_type": "code",
      "metadata": {
        "colab": {
          "base_uri": "https://localhost:8080/"
        },
        "id": "cD4HSdsGzALL",
        "outputId": "e9899554-4b73-4866-e9a0-c9fb903ac35f"
      },
      "source": [
        "## group together Koppen first and second letter groups\n",
        "df_Koppen = df.copy()\n",
        "df_Koppen = df_Koppen[df_Koppen['Koppen'] > 0]\n",
        "df_Koppen = df_Koppen[df_Koppen['Koppen'] < 29]\n",
        "df_Koppen['Koppen_Together'] = df_Koppen['Koppen'].replace(to_replace=[5, 7, 9, 10, 12, 13, 15, 16, 18, 19, 20, 22, 23, 24, 26, 27, 28], value=[4, 6, 8, 8, 11, 11, 14, 14, 17, 17, 17, 21, 21, 21, 25, 25, 25])\n",
        "\n",
        "# Grouped first and second letters of koppen climate types:\n",
        "#5 to 4\n",
        "#7 to 6\n",
        "#9, 10 to 8\n",
        "#13, 12 to 11\n",
        "#16, 15 to 14\n",
        "#20, 19, 18 to 17\n",
        "#24, 23, 22 to 21\n",
        "#28, 27, 26 to 25\n",
        "#29 alone\n",
        "\n",
        "## Check that no Koppen groups have less than 200km area\n",
        "print('Area of each group (km^2):')\n",
        "# Remove 2 and 3\n",
        "df_Koppen = df_Koppen[df_Koppen['Koppen_Together'] > 3]\n",
        "df_Koppen = df_Koppen[df_Koppen['Koppen_Together'] != 21]\n",
        "print(df_Koppen.groupby('Koppen_Together')['Area_km2'].sum())\n",
        "\n",
        "\n",
        "## Check that no landcover groups have less than 2km area\n",
        "df_landcover = df.copy()\n",
        "#Remove landcover 3 = Deciduous needleleaf forest\n",
        "df_landcover = df_landcover[df_landcover['Landcover'] < 11]\n",
        "df_landcover = df_landcover[df_landcover['Landcover'] > 0]\n",
        "df_landcover = df_landcover[df_landcover['Landcover'] != 3]\n",
        "print(df_landcover.groupby('Landcover')['Area_km2'].sum())\n"
      ],
      "execution_count": null,
      "outputs": [
        {
          "output_type": "stream",
          "text": [
            "Area of each group (km^2):\n",
            "Koppen_Together\n",
            "4     34715.4383\n",
            "6    151308.9788\n",
            "8    127560.1464\n",
            "14   146896.1876\n",
            "17    69988.5258\n",
            "25   231067.3222\n",
            "Name: Area_km2, dtype: float64\n",
            "Landcover\n",
            "1     93403.6569\n",
            "2      8748.8891\n",
            "4    159752.5278\n",
            "5     26611.9704\n",
            "6      4656.4408\n",
            "7     34346.3831\n",
            "8    100515.0627\n",
            "9     65947.2164\n",
            "10   266052.4379\n",
            "Name: Area_km2, dtype: float64\n"
          ],
          "name": "stdout"
        }
      ]
    },
    {
      "cell_type": "code",
      "metadata": {
        "id": "uuooUYgAl-fz",
        "colab": {
          "base_uri": "https://localhost:8080/"
        },
        "outputId": "d727707d-2894-477c-8028-341267eee639"
      },
      "source": [
        "print(df_Koppen.groupby('Koppen_Together')['Area_km2'].count())\n",
        "print(df_landcover.groupby('Landcover')['Area_km2'].count())"
      ],
      "execution_count": null,
      "outputs": [
        {
          "output_type": "stream",
          "text": [
            "Koppen_Together\n",
            "4      181959\n",
            "6      797769\n",
            "8      678814\n",
            "14     721489\n",
            "17     388207\n",
            "25    1257998\n",
            "Name: Area_km2, dtype: int64\n",
            "Landcover\n",
            "1      516804\n",
            "2       46872\n",
            "4      827480\n",
            "5      142644\n",
            "6       22951\n",
            "7      168328\n",
            "8      540041\n",
            "9      343125\n",
            "10    1410567\n",
            "Name: Area_km2, dtype: int64\n"
          ],
          "name": "stdout"
        }
      ]
    },
    {
      "cell_type": "markdown",
      "metadata": {
        "id": "Mn0PC2TeKIEq"
      },
      "source": [
        "Plot Koppen box plot"
      ]
    },
    {
      "cell_type": "code",
      "metadata": {
        "colab": {
          "base_uri": "https://localhost:8080/",
          "height": 943
        },
        "id": "NfxG9UPJ7NBl",
        "outputId": "dfeac1ef-4130-4ab9-9c03-e460c054a729"
      },
      "source": [
        "# Setup dataframe with all Koppen Groups, Values, and Colors\n",
        "KoppenColor = ['#0000FE','#0077FF','#46A9FA','#FE0000','#FE9695','#F5A301','#FFDB63','#FDFD45','#C6C700','#96FF96','#63C764','#329633','#C6FF4E','#66FF33','#33C701','#FF00FE','#C600C7','#963295','#966495','#ABB1FF','#5A77DB','#4C51B5','#320087','#18DCDC','#38C7FF','#007E7D','#00455E','#B2B2B2','#686868']\n",
        "KoppenList = ['Tropical Rainforest (Af)','Tropical Monsoon (Am)','Tropical Savanna (Aw)','Desert (BWh)','Arid (BWk)','Semi Arid (BSh)','Semi Arid (BSk)','Mediterranean (Csa)','Mediterranean (Csb)','Mediterranean (Csc)','Humid Subtropical (Cwa)','Oceanic (Cwb)','Ocanic (Cwc)','Humid Subtropical (Cfa)','Oceanic (Cfb)','Oceanic (Cfc)','Humid Continental (Dsa)','Humid Continental (Dsb)','Subarctic (Dsc)','Subarctic (Dsd)','Humid Continental (Dwa)','Humid Continental (Dwb)','Subarctic (Dwc)','Subarctic (Dwd)','Humid Continental (Dfa)','Humid Continental (Dfb)','Subarctic (Dfc)','Subarctic (Dfd)','Tundra (ET)']\n",
        "KoppenList_short = ['Tropical Rainforest (Af)','Tropical Monsoon (Am)','Tropical Savanna (Aw)','Desert & Arid (BW)','Arid (BWk)','Semi Arid (BS)','Semi Arid (BSk)','Mediterranean (Cs)','Mediterranean (Csb)','Mediterranean (Csc)','Humid Subtropical &\\nOceanic (Cw)','Oceanic (Cwb)','Ocanic (Cwc)','Humid Subtropical &\\nOceanic (Cf)','Oceanic (Cfb)','Oceanic (Cfc)','Humid Continental &\\nSubarctic (Ds)','Humid Continental (Dsb)','Subarctic (Dsc)','Subarctic (Dsd)','Humid Continental &\\nSubarctic (Dw)','Humid Continental (Dw)','Subarctic (Dwc)','Subarctic (Dwd)','Humid Continental &\\nSubarctic (Df)','Humid Continental (Dfb)','Subarctic (Dfc)','Subarctic (Dfd)','Tundra (ET)']\n",
        "\n",
        "KoppenColors = pd.DataFrame()\n",
        "KoppenColors['color'] = KoppenColor\n",
        "KoppenColors['name'] = KoppenList_short\n",
        "KoppenColors['number'] = np.arange(1,30, step = 1)\n",
        "KoppenColors"
      ],
      "execution_count": null,
      "outputs": [
        {
          "output_type": "execute_result",
          "data": {
            "text/html": [
              "<div>\n",
              "<style scoped>\n",
              "    .dataframe tbody tr th:only-of-type {\n",
              "        vertical-align: middle;\n",
              "    }\n",
              "\n",
              "    .dataframe tbody tr th {\n",
              "        vertical-align: top;\n",
              "    }\n",
              "\n",
              "    .dataframe thead th {\n",
              "        text-align: right;\n",
              "    }\n",
              "</style>\n",
              "<table border=\"1\" class=\"dataframe\">\n",
              "  <thead>\n",
              "    <tr style=\"text-align: right;\">\n",
              "      <th></th>\n",
              "      <th>color</th>\n",
              "      <th>name</th>\n",
              "      <th>number</th>\n",
              "    </tr>\n",
              "  </thead>\n",
              "  <tbody>\n",
              "    <tr>\n",
              "      <th>0</th>\n",
              "      <td>#0000FE</td>\n",
              "      <td>Tropical Rainforest (Af)</td>\n",
              "      <td>1</td>\n",
              "    </tr>\n",
              "    <tr>\n",
              "      <th>1</th>\n",
              "      <td>#0077FF</td>\n",
              "      <td>Tropical Monsoon (Am)</td>\n",
              "      <td>2</td>\n",
              "    </tr>\n",
              "    <tr>\n",
              "      <th>2</th>\n",
              "      <td>#46A9FA</td>\n",
              "      <td>Tropical Savanna (Aw)</td>\n",
              "      <td>3</td>\n",
              "    </tr>\n",
              "    <tr>\n",
              "      <th>3</th>\n",
              "      <td>#FE0000</td>\n",
              "      <td>Desert &amp; Arid (BW)</td>\n",
              "      <td>4</td>\n",
              "    </tr>\n",
              "    <tr>\n",
              "      <th>4</th>\n",
              "      <td>#FE9695</td>\n",
              "      <td>Arid (BWk)</td>\n",
              "      <td>5</td>\n",
              "    </tr>\n",
              "    <tr>\n",
              "      <th>5</th>\n",
              "      <td>#F5A301</td>\n",
              "      <td>Semi Arid (BS)</td>\n",
              "      <td>6</td>\n",
              "    </tr>\n",
              "    <tr>\n",
              "      <th>6</th>\n",
              "      <td>#FFDB63</td>\n",
              "      <td>Semi Arid (BSk)</td>\n",
              "      <td>7</td>\n",
              "    </tr>\n",
              "    <tr>\n",
              "      <th>7</th>\n",
              "      <td>#FDFD45</td>\n",
              "      <td>Mediterranean (Cs)</td>\n",
              "      <td>8</td>\n",
              "    </tr>\n",
              "    <tr>\n",
              "      <th>8</th>\n",
              "      <td>#C6C700</td>\n",
              "      <td>Mediterranean (Csb)</td>\n",
              "      <td>9</td>\n",
              "    </tr>\n",
              "    <tr>\n",
              "      <th>9</th>\n",
              "      <td>#96FF96</td>\n",
              "      <td>Mediterranean (Csc)</td>\n",
              "      <td>10</td>\n",
              "    </tr>\n",
              "    <tr>\n",
              "      <th>10</th>\n",
              "      <td>#63C764</td>\n",
              "      <td>Humid Subtropical &amp;\\nOceanic (Cw)</td>\n",
              "      <td>11</td>\n",
              "    </tr>\n",
              "    <tr>\n",
              "      <th>11</th>\n",
              "      <td>#329633</td>\n",
              "      <td>Oceanic (Cwb)</td>\n",
              "      <td>12</td>\n",
              "    </tr>\n",
              "    <tr>\n",
              "      <th>12</th>\n",
              "      <td>#C6FF4E</td>\n",
              "      <td>Ocanic (Cwc)</td>\n",
              "      <td>13</td>\n",
              "    </tr>\n",
              "    <tr>\n",
              "      <th>13</th>\n",
              "      <td>#66FF33</td>\n",
              "      <td>Humid Subtropical &amp;\\nOceanic (Cf)</td>\n",
              "      <td>14</td>\n",
              "    </tr>\n",
              "    <tr>\n",
              "      <th>14</th>\n",
              "      <td>#33C701</td>\n",
              "      <td>Oceanic (Cfb)</td>\n",
              "      <td>15</td>\n",
              "    </tr>\n",
              "    <tr>\n",
              "      <th>15</th>\n",
              "      <td>#FF00FE</td>\n",
              "      <td>Oceanic (Cfc)</td>\n",
              "      <td>16</td>\n",
              "    </tr>\n",
              "    <tr>\n",
              "      <th>16</th>\n",
              "      <td>#C600C7</td>\n",
              "      <td>Humid Continental &amp;\\nSubarctic (Ds)</td>\n",
              "      <td>17</td>\n",
              "    </tr>\n",
              "    <tr>\n",
              "      <th>17</th>\n",
              "      <td>#963295</td>\n",
              "      <td>Humid Continental (Dsb)</td>\n",
              "      <td>18</td>\n",
              "    </tr>\n",
              "    <tr>\n",
              "      <th>18</th>\n",
              "      <td>#966495</td>\n",
              "      <td>Subarctic (Dsc)</td>\n",
              "      <td>19</td>\n",
              "    </tr>\n",
              "    <tr>\n",
              "      <th>19</th>\n",
              "      <td>#ABB1FF</td>\n",
              "      <td>Subarctic (Dsd)</td>\n",
              "      <td>20</td>\n",
              "    </tr>\n",
              "    <tr>\n",
              "      <th>20</th>\n",
              "      <td>#5A77DB</td>\n",
              "      <td>Humid Continental &amp;\\nSubarctic (Dw)</td>\n",
              "      <td>21</td>\n",
              "    </tr>\n",
              "    <tr>\n",
              "      <th>21</th>\n",
              "      <td>#4C51B5</td>\n",
              "      <td>Humid Continental (Dw)</td>\n",
              "      <td>22</td>\n",
              "    </tr>\n",
              "    <tr>\n",
              "      <th>22</th>\n",
              "      <td>#320087</td>\n",
              "      <td>Subarctic (Dwc)</td>\n",
              "      <td>23</td>\n",
              "    </tr>\n",
              "    <tr>\n",
              "      <th>23</th>\n",
              "      <td>#18DCDC</td>\n",
              "      <td>Subarctic (Dwd)</td>\n",
              "      <td>24</td>\n",
              "    </tr>\n",
              "    <tr>\n",
              "      <th>24</th>\n",
              "      <td>#38C7FF</td>\n",
              "      <td>Humid Continental &amp;\\nSubarctic (Df)</td>\n",
              "      <td>25</td>\n",
              "    </tr>\n",
              "    <tr>\n",
              "      <th>25</th>\n",
              "      <td>#007E7D</td>\n",
              "      <td>Humid Continental (Dfb)</td>\n",
              "      <td>26</td>\n",
              "    </tr>\n",
              "    <tr>\n",
              "      <th>26</th>\n",
              "      <td>#00455E</td>\n",
              "      <td>Subarctic (Dfc)</td>\n",
              "      <td>27</td>\n",
              "    </tr>\n",
              "    <tr>\n",
              "      <th>27</th>\n",
              "      <td>#B2B2B2</td>\n",
              "      <td>Subarctic (Dfd)</td>\n",
              "      <td>28</td>\n",
              "    </tr>\n",
              "    <tr>\n",
              "      <th>28</th>\n",
              "      <td>#686868</td>\n",
              "      <td>Tundra (ET)</td>\n",
              "      <td>29</td>\n",
              "    </tr>\n",
              "  </tbody>\n",
              "</table>\n",
              "</div>"
            ],
            "text/plain": [
              "      color                                 name  number\n",
              "0   #0000FE             Tropical Rainforest (Af)       1\n",
              "1   #0077FF                Tropical Monsoon (Am)       2\n",
              "2   #46A9FA                Tropical Savanna (Aw)       3\n",
              "3   #FE0000                   Desert & Arid (BW)       4\n",
              "4   #FE9695                           Arid (BWk)       5\n",
              "5   #F5A301                       Semi Arid (BS)       6\n",
              "6   #FFDB63                      Semi Arid (BSk)       7\n",
              "7   #FDFD45                   Mediterranean (Cs)       8\n",
              "8   #C6C700                  Mediterranean (Csb)       9\n",
              "9   #96FF96                  Mediterranean (Csc)      10\n",
              "10  #63C764    Humid Subtropical &\\nOceanic (Cw)      11\n",
              "11  #329633                        Oceanic (Cwb)      12\n",
              "12  #C6FF4E                         Ocanic (Cwc)      13\n",
              "13  #66FF33    Humid Subtropical &\\nOceanic (Cf)      14\n",
              "14  #33C701                        Oceanic (Cfb)      15\n",
              "15  #FF00FE                        Oceanic (Cfc)      16\n",
              "16  #C600C7  Humid Continental &\\nSubarctic (Ds)      17\n",
              "17  #963295              Humid Continental (Dsb)      18\n",
              "18  #966495                      Subarctic (Dsc)      19\n",
              "19  #ABB1FF                      Subarctic (Dsd)      20\n",
              "20  #5A77DB  Humid Continental &\\nSubarctic (Dw)      21\n",
              "21  #4C51B5               Humid Continental (Dw)      22\n",
              "22  #320087                      Subarctic (Dwc)      23\n",
              "23  #18DCDC                      Subarctic (Dwd)      24\n",
              "24  #38C7FF  Humid Continental &\\nSubarctic (Df)      25\n",
              "25  #007E7D              Humid Continental (Dfb)      26\n",
              "26  #00455E                      Subarctic (Dfc)      27\n",
              "27  #B2B2B2                      Subarctic (Dfd)      28\n",
              "28  #686868                          Tundra (ET)      29"
            ]
          },
          "metadata": {
            "tags": []
          },
          "execution_count": 6
        }
      ]
    },
    {
      "cell_type": "code",
      "metadata": {
        "colab": {
          "base_uri": "https://localhost:8080/",
          "height": 234
        },
        "id": "DboNDQoXKWXZ",
        "outputId": "ced8e37a-3d94-48b6-bf4b-e0b355f107d4"
      },
      "source": [
        "# Filter Koppen data and aesthetics by group for plotting:\n",
        "koppen_ids = df_Koppen['Koppen_Together'].unique()\n",
        "aesthetics = KoppenColors[KoppenColors.number.isin(koppen_ids)]\n",
        "aesthetics"
      ],
      "execution_count": null,
      "outputs": [
        {
          "output_type": "execute_result",
          "data": {
            "text/html": [
              "<div>\n",
              "<style scoped>\n",
              "    .dataframe tbody tr th:only-of-type {\n",
              "        vertical-align: middle;\n",
              "    }\n",
              "\n",
              "    .dataframe tbody tr th {\n",
              "        vertical-align: top;\n",
              "    }\n",
              "\n",
              "    .dataframe thead th {\n",
              "        text-align: right;\n",
              "    }\n",
              "</style>\n",
              "<table border=\"1\" class=\"dataframe\">\n",
              "  <thead>\n",
              "    <tr style=\"text-align: right;\">\n",
              "      <th></th>\n",
              "      <th>color</th>\n",
              "      <th>name</th>\n",
              "      <th>number</th>\n",
              "    </tr>\n",
              "  </thead>\n",
              "  <tbody>\n",
              "    <tr>\n",
              "      <th>3</th>\n",
              "      <td>#FE0000</td>\n",
              "      <td>Desert &amp; Arid (BW)</td>\n",
              "      <td>4</td>\n",
              "    </tr>\n",
              "    <tr>\n",
              "      <th>5</th>\n",
              "      <td>#F5A301</td>\n",
              "      <td>Semi Arid (BS)</td>\n",
              "      <td>6</td>\n",
              "    </tr>\n",
              "    <tr>\n",
              "      <th>7</th>\n",
              "      <td>#FDFD45</td>\n",
              "      <td>Mediterranean (Cs)</td>\n",
              "      <td>8</td>\n",
              "    </tr>\n",
              "    <tr>\n",
              "      <th>13</th>\n",
              "      <td>#66FF33</td>\n",
              "      <td>Humid Subtropical &amp;\\nOceanic (Cf)</td>\n",
              "      <td>14</td>\n",
              "    </tr>\n",
              "    <tr>\n",
              "      <th>16</th>\n",
              "      <td>#C600C7</td>\n",
              "      <td>Humid Continental &amp;\\nSubarctic (Ds)</td>\n",
              "      <td>17</td>\n",
              "    </tr>\n",
              "    <tr>\n",
              "      <th>24</th>\n",
              "      <td>#38C7FF</td>\n",
              "      <td>Humid Continental &amp;\\nSubarctic (Df)</td>\n",
              "      <td>25</td>\n",
              "    </tr>\n",
              "  </tbody>\n",
              "</table>\n",
              "</div>"
            ],
            "text/plain": [
              "      color                                 name  number\n",
              "3   #FE0000                   Desert & Arid (BW)       4\n",
              "5   #F5A301                       Semi Arid (BS)       6\n",
              "7   #FDFD45                   Mediterranean (Cs)       8\n",
              "13  #66FF33    Humid Subtropical &\\nOceanic (Cf)      14\n",
              "16  #C600C7  Humid Continental &\\nSubarctic (Ds)      17\n",
              "24  #38C7FF  Humid Continental &\\nSubarctic (Df)      25"
            ]
          },
          "metadata": {
            "tags": []
          },
          "execution_count": 7
        }
      ]
    },
    {
      "cell_type": "code",
      "metadata": {
        "colab": {
          "base_uri": "https://localhost:8080/",
          "height": 927
        },
        "id": "Lc9RhFr0Kknn",
        "outputId": "fa6c44b9-6d32-473d-9b78-185813c2cd9d"
      },
      "source": [
        "# set font size\n",
        "#plt.rc('xtick', labelsize=16) \n",
        "#plt.rc('ytick', labelsize=16) \n",
        "\n",
        "# set figure size\n",
        "f, ax = plt.subplots(figsize=(6, 4), dpi=300) \n",
        "\n",
        "sns.boxplot(x=\"Koppen_Together\", y=\"Srock\", data=df_Koppen, width=.6, linewidth = .7, palette=aesthetics['color'],whis = 1.5, showfliers = False)\n",
        "#sns.boxplot(x=\"Koppen_Together\", y=\"Srock\", data=plotdf, width=.6,whis = 0, showfliers = False)\n",
        "# Tweak the visual presentation\n",
        "plt.xticks(np.arange(0, 7, step=1), labels = aesthetics['name'],rotation = 'vertical') # rotation='25', ha=\"right\"\n",
        "ax.yaxis.grid(True)\n",
        "#ax.set_title('Köppen Climate Type')\n",
        "ax.set_axisbelow(True)\n",
        "#ax.set_xlabel(labels)\n",
        "ax.set_ylim(0, 850)\n",
        "ax.set_xlabel(\"\")\n",
        "ax.set_ylabel(\"\")\n",
        "#ax.set_ylabel('$S_{bedrock}$ (mm)')\n",
        "\n",
        "# Uncomment to download fig:\n",
        "plt.rcParams['pdf.fonttype'] = 42\n",
        "plt.savefig(\"koppen_boxes.pdf\", transparent=True, bbox_inches='tight')\n",
        "files.download(\"koppen_boxes.pdf\") "
      ],
      "execution_count": null,
      "outputs": [
        {
          "output_type": "display_data",
          "data": {
            "application/javascript": [
              "\n",
              "    async function download(id, filename, size) {\n",
              "      if (!google.colab.kernel.accessAllowed) {\n",
              "        return;\n",
              "      }\n",
              "      const div = document.createElement('div');\n",
              "      const label = document.createElement('label');\n",
              "      label.textContent = `Downloading \"${filename}\": `;\n",
              "      div.appendChild(label);\n",
              "      const progress = document.createElement('progress');\n",
              "      progress.max = size;\n",
              "      div.appendChild(progress);\n",
              "      document.body.appendChild(div);\n",
              "\n",
              "      const buffers = [];\n",
              "      let downloaded = 0;\n",
              "\n",
              "      const channel = await google.colab.kernel.comms.open(id);\n",
              "      // Send a message to notify the kernel that we're ready.\n",
              "      channel.send({})\n",
              "\n",
              "      for await (const message of channel.messages) {\n",
              "        // Send a message to notify the kernel that we're ready.\n",
              "        channel.send({})\n",
              "        if (message.buffers) {\n",
              "          for (const buffer of message.buffers) {\n",
              "            buffers.push(buffer);\n",
              "            downloaded += buffer.byteLength;\n",
              "            progress.value = downloaded;\n",
              "          }\n",
              "        }\n",
              "      }\n",
              "      const blob = new Blob(buffers, {type: 'application/binary'});\n",
              "      const a = document.createElement('a');\n",
              "      a.href = window.URL.createObjectURL(blob);\n",
              "      a.download = filename;\n",
              "      div.appendChild(a);\n",
              "      a.click();\n",
              "      div.remove();\n",
              "    }\n",
              "  "
            ],
            "text/plain": [
              "<IPython.core.display.Javascript object>"
            ]
          },
          "metadata": {
            "tags": []
          }
        },
        {
          "output_type": "display_data",
          "data": {
            "application/javascript": [
              "download(\"download_de967d8e-5b51-42e1-b358-e73e7dbdb465\", \"koppen_boxes.pdf\", 383756)"
            ],
            "text/plain": [
              "<IPython.core.display.Javascript object>"
            ]
          },
          "metadata": {
            "tags": []
          }
        },
        {
          "output_type": "display_data",
          "data": {
            "image/png": "[encoded data removed]",
            "text/plain": [
              "<Figure size 1800x1200 with 1 Axes>"
            ]
          },
          "metadata": {
            "tags": [],
            "needs_background": "light"
          }
        }
      ]
    },
    {
      "cell_type": "code",
      "metadata": {
        "id": "0uUUSxVtTbZ7"
      },
      "source": [
        "lcoi = ['Evergreen Needleleaf\\nForests','Evergreen Broadleaf\\nForests','Deciduous Needleleaf\\nForests','Deciduous Broadleaf\\nForests','Mixed Forests','Closed Shrublands','Open Shrublands','Woody Savannas','Savannas','Shrubland\\n(<2m Height)']\n",
        "qgis_colors = ['#f8de85', '#FAC13E','#a5537f','#a52653','#c04a02','#A4B381','#52B33F','#74B3B8','#B183B8','#7846A8']\n",
        "landcoverList = ['Evergreen Needleleaf\\nForests', 'Evergreen Broadleaf\\nForests', 'Deciduous Needleleaf\\nForests', 'Deciduous Broadleaf\\nForests', 'Mixed Forests', 'Closed Shrublands', 'Open Shrublands', 'Woody Savannas', 'Savannas', 'Shrubland (<2m Height)', 'Permanent Wetlands', 'Croplands', 'Urban and Built-up Lands', 'Cropland/Natural Vegetation Mosaics', 'Permanent Snow and Ice', 'Barren', 'Water Bodies']\n",
        "land_numbers = [1, 2, 3, 4, 5, 6, 7, 8, 9, 10]\n",
        "\n",
        "land_aes = pd.DataFrame()\n",
        "land_aes['name'] = lcoi\n",
        "land_aes['number'] = land_numbers\n",
        "land_aes['color'] = qgis_colors"
      ],
      "execution_count": null,
      "outputs": []
    },
    {
      "cell_type": "code",
      "metadata": {
        "colab": {
          "base_uri": "https://localhost:8080/",
          "height": 326
        },
        "id": "fh4-IHvjToeD",
        "outputId": "f77cc3cd-b13c-414d-9b67-24c5c72c728a"
      },
      "source": [
        "# Filter Koppen data and aesthetics by group for plotting:\n",
        "landcover_ids = df_landcover['Landcover'].unique()\n",
        "land_aesthetics = land_aes[land_aes.number.isin(landcover_ids)]\n",
        "land_aesthetics"
      ],
      "execution_count": null,
      "outputs": [
        {
          "output_type": "execute_result",
          "data": {
            "text/html": [
              "<div>\n",
              "<style scoped>\n",
              "    .dataframe tbody tr th:only-of-type {\n",
              "        vertical-align: middle;\n",
              "    }\n",
              "\n",
              "    .dataframe tbody tr th {\n",
              "        vertical-align: top;\n",
              "    }\n",
              "\n",
              "    .dataframe thead th {\n",
              "        text-align: right;\n",
              "    }\n",
              "</style>\n",
              "<table border=\"1\" class=\"dataframe\">\n",
              "  <thead>\n",
              "    <tr style=\"text-align: right;\">\n",
              "      <th></th>\n",
              "      <th>name</th>\n",
              "      <th>number</th>\n",
              "      <th>color</th>\n",
              "    </tr>\n",
              "  </thead>\n",
              "  <tbody>\n",
              "    <tr>\n",
              "      <th>0</th>\n",
              "      <td>Evergreen Needleleaf\\nForests</td>\n",
              "      <td>1</td>\n",
              "      <td>#f8de85</td>\n",
              "    </tr>\n",
              "    <tr>\n",
              "      <th>1</th>\n",
              "      <td>Evergreen Broadleaf\\nForests</td>\n",
              "      <td>2</td>\n",
              "      <td>#FAC13E</td>\n",
              "    </tr>\n",
              "    <tr>\n",
              "      <th>3</th>\n",
              "      <td>Deciduous Broadleaf\\nForests</td>\n",
              "      <td>4</td>\n",
              "      <td>#a52653</td>\n",
              "    </tr>\n",
              "    <tr>\n",
              "      <th>4</th>\n",
              "      <td>Mixed Forests</td>\n",
              "      <td>5</td>\n",
              "      <td>#c04a02</td>\n",
              "    </tr>\n",
              "    <tr>\n",
              "      <th>5</th>\n",
              "      <td>Closed Shrublands</td>\n",
              "      <td>6</td>\n",
              "      <td>#A4B381</td>\n",
              "    </tr>\n",
              "    <tr>\n",
              "      <th>6</th>\n",
              "      <td>Open Shrublands</td>\n",
              "      <td>7</td>\n",
              "      <td>#52B33F</td>\n",
              "    </tr>\n",
              "    <tr>\n",
              "      <th>7</th>\n",
              "      <td>Woody Savannas</td>\n",
              "      <td>8</td>\n",
              "      <td>#74B3B8</td>\n",
              "    </tr>\n",
              "    <tr>\n",
              "      <th>8</th>\n",
              "      <td>Savannas</td>\n",
              "      <td>9</td>\n",
              "      <td>#B183B8</td>\n",
              "    </tr>\n",
              "    <tr>\n",
              "      <th>9</th>\n",
              "      <td>Shrubland\\n(&lt;2m Height)</td>\n",
              "      <td>10</td>\n",
              "      <td>#7846A8</td>\n",
              "    </tr>\n",
              "  </tbody>\n",
              "</table>\n",
              "</div>"
            ],
            "text/plain": [
              "                            name  number    color\n",
              "0  Evergreen Needleleaf\\nForests       1  #f8de85\n",
              "1   Evergreen Broadleaf\\nForests       2  #FAC13E\n",
              "3   Deciduous Broadleaf\\nForests       4  #a52653\n",
              "4                  Mixed Forests       5  #c04a02\n",
              "5              Closed Shrublands       6  #A4B381\n",
              "6                Open Shrublands       7  #52B33F\n",
              "7                 Woody Savannas       8  #74B3B8\n",
              "8                       Savannas       9  #B183B8\n",
              "9        Shrubland\\n(<2m Height)      10  #7846A8"
            ]
          },
          "metadata": {
            "tags": []
          },
          "execution_count": 58
        }
      ]
    },
    {
      "cell_type": "code",
      "metadata": {
        "colab": {
          "base_uri": "https://localhost:8080/",
          "height": 1000
        },
        "id": "wi7Zbw3PTXr6",
        "outputId": "c03c948d-8895-4f47-f20f-c55b7bc6a1a4"
      },
      "source": [
        "\n",
        "# Set fig size\n",
        "f, ax = plt.subplots(figsize=(6, 4),dpi=300)\n",
        "\n",
        "sns.boxplot(x=\"Landcover\", y=\"Srock\", data=df_landcover, width=.6, linewidth = .7, palette = land_aesthetics['color'], whis = 1.5, showfliers = False)\n",
        "plt.xticks(np.arange(0, 10, step=1), labels = land_aesthetics['name'], rotation = 'vertical') # rotation='25', ha=\"right\"\n",
        "\n",
        "\n",
        "# Tweak the visual presentation\n",
        "plt.xticks(rotation='vertical');\n",
        "ax.set_axisbelow(True)\n",
        "#ax.set_title('Biome')\n",
        "ax.set_xlabel(\"\")\n",
        "ax.set_ylabel(\"\")\n",
        "ax.yaxis.grid(True)\n",
        "ax.set_ylim(0, 850)\n",
        "#ax.set_ylabel('$S_{bedrock}$ (mm)')\n",
        "\n",
        "# Uncomment to download fig:\n",
        "plt.rcParams['pdf.fonttype'] = 42\n",
        "plt.savefig(\"biome_boxes.pdf\", transparent=True, bbox_inches='tight')\n",
        "files.download(\"biome_boxes.pdf\") \n"
      ],
      "execution_count": null,
      "outputs": [
        {
          "output_type": "display_data",
          "data": {
            "application/javascript": [
              "\n",
              "    async function download(id, filename, size) {\n",
              "      if (!google.colab.kernel.accessAllowed) {\n",
              "        return;\n",
              "      }\n",
              "      const div = document.createElement('div');\n",
              "      const label = document.createElement('label');\n",
              "      label.textContent = `Downloading \"${filename}\": `;\n",
              "      div.appendChild(label);\n",
              "      const progress = document.createElement('progress');\n",
              "      progress.max = size;\n",
              "      div.appendChild(progress);\n",
              "      document.body.appendChild(div);\n",
              "\n",
              "      const buffers = [];\n",
              "      let downloaded = 0;\n",
              "\n",
              "      const channel = await google.colab.kernel.comms.open(id);\n",
              "      // Send a message to notify the kernel that we're ready.\n",
              "      channel.send({})\n",
              "\n",
              "      for await (const message of channel.messages) {\n",
              "        // Send a message to notify the kernel that we're ready.\n",
              "        channel.send({})\n",
              "        if (message.buffers) {\n",
              "          for (const buffer of message.buffers) {\n",
              "            buffers.push(buffer);\n",
              "            downloaded += buffer.byteLength;\n",
              "            progress.value = downloaded;\n",
              "          }\n",
              "        }\n",
              "      }\n",
              "      const blob = new Blob(buffers, {type: 'application/binary'});\n",
              "      const a = document.createElement('a');\n",
              "      a.href = window.URL.createObjectURL(blob);\n",
              "      a.download = filename;\n",
              "      div.appendChild(a);\n",
              "      a.click();\n",
              "      div.remove();\n",
              "    }\n",
              "  "
            ],
            "text/plain": [
              "<IPython.core.display.Javascript object>"
            ]
          },
          "metadata": {
            "tags": []
          }
        },
        {
          "output_type": "display_data",
          "data": {
            "application/javascript": [
              "download(\"download_24cc13cd-0d1b-436d-895e-b2e0059723cf\", \"biome_boxes.pdf\", 384247)"
            ],
            "text/plain": [
              "<IPython.core.display.Javascript object>"
            ]
          },
          "metadata": {
            "tags": []
          }
        },
        {
          "output_type": "display_data",
          "data": {
            "image/png": "[encoded data removed]",
            "text/plain": [
              "<Figure size 1800x1200 with 1 Axes>"
            ]
          },
          "metadata": {
            "tags": [],
            "needs_background": "light"
          }
        }
      ]
    },
    {
      "cell_type": "markdown",
      "metadata": {
        "id": "7uEiqheT9nSt"
      },
      "source": [
        "**ED Table 1: Joint koppen and biome groups**"
      ]
    },
    {
      "cell_type": "code",
      "metadata": {
        "id": "o8n7QSTGTWJm"
      },
      "source": [
        "df_combined = df_Koppen.copy()\n",
        "\n",
        "# Get rid of landcover groups that were processed for df_Landcover\n",
        "df_combined = df_combined[df_combined['Landcover'] < 11]\n",
        "df_combined = df_combined[df_combined['Landcover'] > 0]\n",
        "df_combined = df_combined[df_combined['Landcover'] != 3]"
      ],
      "execution_count": null,
      "outputs": []
    },
    {
      "cell_type": "code",
      "metadata": {
        "colab": {
          "base_uri": "https://localhost:8080/",
          "height": 202
        },
        "id": "MguDdJn6TEBY",
        "outputId": "05e8b755-0c08-49a3-fba7-917afbd0c4e2"
      },
      "source": [
        "df_median = df_combined.groupby([\"Landcover\",\"Koppen\"]).median().reset_index()\n",
        "df_median['Median'] = df_median['Srock']\n",
        "del df_median['Srock']\n",
        "\n",
        "df_mean = df_combined.groupby([\"Landcover\",\"Koppen\"])['Srock'].mean().reset_index()\n",
        "df_mean['Mean'] = df_mean['Srock']\n",
        "del df_mean['Srock']\n",
        "\n",
        "df_std = df_combined.groupby([\"Landcover\",\"Koppen\"])['Srock'].std().reset_index()\n",
        "df_std['Stdev'] = df_std['Srock']\n",
        "del df_std['Srock']\n",
        "\n",
        "# Area sum\n",
        "df_area = df_combined.groupby([\"Landcover\",\"Koppen\"])['Area_km2'].sum().reset_index()\n",
        "\n",
        "## Combine into one\n",
        "df_stats = pd.DataFrame()\n",
        "df_stats['Koppen'] = df_median['Koppen']\n",
        "df_stats['Landcover'] = df_median['Landcover']\n",
        "df_stats['Median'] = df_median['Median']\n",
        "df_stats['Mean'] = df_mean['Mean']\n",
        "df_stats['Stdev'] = df_std['Stdev']\n",
        "df_stats['Area'] = df_area['Area_km2']\n",
        "\n",
        "df_stats.head()"
      ],
      "execution_count": null,
      "outputs": [
        {
          "output_type": "execute_result",
          "data": {
            "text/html": [
              "<div>\n",
              "<style scoped>\n",
              "    .dataframe tbody tr th:only-of-type {\n",
              "        vertical-align: middle;\n",
              "    }\n",
              "\n",
              "    .dataframe tbody tr th {\n",
              "        vertical-align: top;\n",
              "    }\n",
              "\n",
              "    .dataframe thead th {\n",
              "        text-align: right;\n",
              "    }\n",
              "</style>\n",
              "<table border=\"1\" class=\"dataframe\">\n",
              "  <thead>\n",
              "    <tr style=\"text-align: right;\">\n",
              "      <th></th>\n",
              "      <th>Koppen</th>\n",
              "      <th>Landcover</th>\n",
              "      <th>Median</th>\n",
              "      <th>Mean</th>\n",
              "      <th>Stdev</th>\n",
              "      <th>Area</th>\n",
              "    </tr>\n",
              "  </thead>\n",
              "  <tbody>\n",
              "    <tr>\n",
              "      <th>0</th>\n",
              "      <td>4</td>\n",
              "      <td>1</td>\n",
              "      <td>1243.9074</td>\n",
              "      <td>1256.6669</td>\n",
              "      <td>106.1217</td>\n",
              "      <td>2.0196</td>\n",
              "    </tr>\n",
              "    <tr>\n",
              "      <th>1</th>\n",
              "      <td>5</td>\n",
              "      <td>1</td>\n",
              "      <td>305.5956</td>\n",
              "      <td>307.6959</td>\n",
              "      <td>74.7201</td>\n",
              "      <td>140.4730</td>\n",
              "    </tr>\n",
              "    <tr>\n",
              "      <th>2</th>\n",
              "      <td>6</td>\n",
              "      <td>1</td>\n",
              "      <td>1258.5907</td>\n",
              "      <td>1239.7315</td>\n",
              "      <td>213.7745</td>\n",
              "      <td>135.0306</td>\n",
              "    </tr>\n",
              "    <tr>\n",
              "      <th>3</th>\n",
              "      <td>7</td>\n",
              "      <td>1</td>\n",
              "      <td>168.5543</td>\n",
              "      <td>224.7041</td>\n",
              "      <td>220.2505</td>\n",
              "      <td>2199.5448</td>\n",
              "    </tr>\n",
              "    <tr>\n",
              "      <th>4</th>\n",
              "      <td>8</td>\n",
              "      <td>1</td>\n",
              "      <td>366.8857</td>\n",
              "      <td>397.7428</td>\n",
              "      <td>158.7262</td>\n",
              "      <td>9954.0365</td>\n",
              "    </tr>\n",
              "  </tbody>\n",
              "</table>\n",
              "</div>"
            ],
            "text/plain": [
              "   Koppen  Landcover    Median      Mean    Stdev      Area\n",
              "0       4          1 1243.9074 1256.6669 106.1217    2.0196\n",
              "1       5          1  305.5956  307.6959  74.7201  140.4730\n",
              "2       6          1 1258.5907 1239.7315 213.7745  135.0306\n",
              "3       7          1  168.5543  224.7041 220.2505 2199.5448\n",
              "4       8          1  366.8857  397.7428 158.7262 9954.0365"
            ]
          },
          "metadata": {
            "tags": []
          },
          "execution_count": 109
        }
      ]
    },
    {
      "cell_type": "code",
      "metadata": {
        "colab": {
          "base_uri": "https://localhost:8080/",
          "height": 678
        },
        "id": "O9TXEXw977_5",
        "outputId": "cb40729b-1b8c-48ac-ad69-22488967786d"
      },
      "source": [
        "# Merge with labels\n",
        "## Join with aesthetics df to attach names for koppen and landcover types\n",
        "df_labeled = df_stats.merge(KoppenColors, how = 'left', left_on = 'Koppen', right_on = 'number')\n",
        "df_labeled = df_labeled.merge(land_aes, how = 'left', left_on = 'Landcover', right_on = 'number')\n",
        "df_labeled['Koppen_Name'] = df_labeled['name_x']\n",
        "df_labeled['Landcover_Name'] = df_labeled['name_y']\n",
        "df_labeled = df_labeled.drop(columns=['color_x', 'color_y','number_x','number_y', 'name_x','name_y'])\n",
        "df_labeled"
      ],
      "execution_count": null,
      "outputs": [
        {
          "output_type": "execute_result",
          "data": {
            "text/html": [
              "<div>\n",
              "<style scoped>\n",
              "    .dataframe tbody tr th:only-of-type {\n",
              "        vertical-align: middle;\n",
              "    }\n",
              "\n",
              "    .dataframe tbody tr th {\n",
              "        vertical-align: top;\n",
              "    }\n",
              "\n",
              "    .dataframe thead th {\n",
              "        text-align: right;\n",
              "    }\n",
              "</style>\n",
              "<table border=\"1\" class=\"dataframe\">\n",
              "  <thead>\n",
              "    <tr style=\"text-align: right;\">\n",
              "      <th></th>\n",
              "      <th>Koppen</th>\n",
              "      <th>Landcover</th>\n",
              "      <th>Median</th>\n",
              "      <th>Mean</th>\n",
              "      <th>Stdev</th>\n",
              "      <th>Area</th>\n",
              "      <th>Koppen_Name</th>\n",
              "      <th>Landcover_Name</th>\n",
              "    </tr>\n",
              "  </thead>\n",
              "  <tbody>\n",
              "    <tr>\n",
              "      <th>0</th>\n",
              "      <td>4</td>\n",
              "      <td>1</td>\n",
              "      <td>1243.9074</td>\n",
              "      <td>1256.6669</td>\n",
              "      <td>106.1217</td>\n",
              "      <td>2.0196</td>\n",
              "      <td>Desert &amp; Arid (BW)</td>\n",
              "      <td>Evergreen Needleleaf\\nForests</td>\n",
              "    </tr>\n",
              "    <tr>\n",
              "      <th>1</th>\n",
              "      <td>5</td>\n",
              "      <td>1</td>\n",
              "      <td>305.5956</td>\n",
              "      <td>307.6959</td>\n",
              "      <td>74.7201</td>\n",
              "      <td>140.4730</td>\n",
              "      <td>Arid (BWk)</td>\n",
              "      <td>Evergreen Needleleaf\\nForests</td>\n",
              "    </tr>\n",
              "    <tr>\n",
              "      <th>2</th>\n",
              "      <td>6</td>\n",
              "      <td>1</td>\n",
              "      <td>1258.5907</td>\n",
              "      <td>1239.7315</td>\n",
              "      <td>213.7745</td>\n",
              "      <td>135.0306</td>\n",
              "      <td>Semi Arid (BS)</td>\n",
              "      <td>Evergreen Needleleaf\\nForests</td>\n",
              "    </tr>\n",
              "    <tr>\n",
              "      <th>3</th>\n",
              "      <td>7</td>\n",
              "      <td>1</td>\n",
              "      <td>168.5543</td>\n",
              "      <td>224.7041</td>\n",
              "      <td>220.2505</td>\n",
              "      <td>2199.5448</td>\n",
              "      <td>Semi Arid (BSk)</td>\n",
              "      <td>Evergreen Needleleaf\\nForests</td>\n",
              "    </tr>\n",
              "    <tr>\n",
              "      <th>4</th>\n",
              "      <td>8</td>\n",
              "      <td>1</td>\n",
              "      <td>366.8857</td>\n",
              "      <td>397.7428</td>\n",
              "      <td>158.7262</td>\n",
              "      <td>9954.0365</td>\n",
              "      <td>Mediterranean (Cs)</td>\n",
              "      <td>Evergreen Needleleaf\\nForests</td>\n",
              "    </tr>\n",
              "    <tr>\n",
              "      <th>...</th>\n",
              "      <td>...</td>\n",
              "      <td>...</td>\n",
              "      <td>...</td>\n",
              "      <td>...</td>\n",
              "      <td>...</td>\n",
              "      <td>...</td>\n",
              "      <td>...</td>\n",
              "      <td>...</td>\n",
              "    </tr>\n",
              "    <tr>\n",
              "      <th>98</th>\n",
              "      <td>18</td>\n",
              "      <td>10</td>\n",
              "      <td>132.8279</td>\n",
              "      <td>149.4736</td>\n",
              "      <td>104.9434</td>\n",
              "      <td>24719.1910</td>\n",
              "      <td>Humid Continental (Dsb)</td>\n",
              "      <td>Shrubland\\n(&lt;2m Height)</td>\n",
              "    </tr>\n",
              "    <tr>\n",
              "      <th>99</th>\n",
              "      <td>19</td>\n",
              "      <td>10</td>\n",
              "      <td>157.4928</td>\n",
              "      <td>154.4441</td>\n",
              "      <td>74.8173</td>\n",
              "      <td>167.9586</td>\n",
              "      <td>Subarctic (Dsc)</td>\n",
              "      <td>Shrubland\\n(&lt;2m Height)</td>\n",
              "    </tr>\n",
              "    <tr>\n",
              "      <th>100</th>\n",
              "      <td>25</td>\n",
              "      <td>10</td>\n",
              "      <td>157.1655</td>\n",
              "      <td>168.1793</td>\n",
              "      <td>84.1041</td>\n",
              "      <td>5288.4039</td>\n",
              "      <td>Humid Continental &amp;\\nSubarctic (Df)</td>\n",
              "      <td>Shrubland\\n(&lt;2m Height)</td>\n",
              "    </tr>\n",
              "    <tr>\n",
              "      <th>101</th>\n",
              "      <td>26</td>\n",
              "      <td>10</td>\n",
              "      <td>107.7043</td>\n",
              "      <td>116.1909</td>\n",
              "      <td>77.8736</td>\n",
              "      <td>55507.0385</td>\n",
              "      <td>Humid Continental (Dfb)</td>\n",
              "      <td>Shrubland\\n(&lt;2m Height)</td>\n",
              "    </tr>\n",
              "    <tr>\n",
              "      <th>102</th>\n",
              "      <td>27</td>\n",
              "      <td>10</td>\n",
              "      <td>96.9676</td>\n",
              "      <td>106.9602</td>\n",
              "      <td>74.1570</td>\n",
              "      <td>8897.9890</td>\n",
              "      <td>Subarctic (Dfc)</td>\n",
              "      <td>Shrubland\\n(&lt;2m Height)</td>\n",
              "    </tr>\n",
              "  </tbody>\n",
              "</table>\n",
              "<p>103 rows × 8 columns</p>\n",
              "</div>"
            ],
            "text/plain": [
              "     Koppen  ...                 Landcover_Name\n",
              "0         4  ...  Evergreen Needleleaf\\nForests\n",
              "1         5  ...  Evergreen Needleleaf\\nForests\n",
              "2         6  ...  Evergreen Needleleaf\\nForests\n",
              "3         7  ...  Evergreen Needleleaf\\nForests\n",
              "4         8  ...  Evergreen Needleleaf\\nForests\n",
              "..      ...  ...                            ...\n",
              "98       18  ...        Shrubland\\n(<2m Height)\n",
              "99       19  ...        Shrubland\\n(<2m Height)\n",
              "100      25  ...        Shrubland\\n(<2m Height)\n",
              "101      26  ...        Shrubland\\n(<2m Height)\n",
              "102      27  ...        Shrubland\\n(<2m Height)\n",
              "\n",
              "[103 rows x 8 columns]"
            ]
          },
          "metadata": {
            "tags": []
          },
          "execution_count": 111
        }
      ]
    },
    {
      "cell_type": "code",
      "metadata": {
        "id": "sNdII8CnP8EB"
      },
      "source": [
        "# Write the DataFrames to CSV files.\n",
        "with open('/content/drive/MyDrive/joint_distribution_stats.csv', 'w') as f:\n",
        "  df_labeled.to_csv(f)"
      ],
      "execution_count": null,
      "outputs": []
    },
    {
      "cell_type": "markdown",
      "metadata": {
        "id": "AkrQn2g8-VCl"
      },
      "source": [
        "**Statistical tests on Koppen and biome groups (Kruskal and Dunn's test p-values**"
      ]
    },
    {
      "cell_type": "code",
      "metadata": {
        "colab": {
          "base_uri": "https://localhost:8080/"
        },
        "id": "beMn8zn0my9W",
        "outputId": "975286f8-1296-4cca-8210-c69190baaeed"
      },
      "source": [
        "## KOPPEN KRUSKAL TEST\n",
        "subset4 = df_Koppen[df_Koppen['Koppen'] == 4]\n",
        "kop4 = subset4['Srock'].dropna()\n",
        "\n",
        "subset6 = df_Koppen[df_Koppen['Koppen'] == 6]\n",
        "kop6 = subset6['Srock'].dropna()\n",
        "\n",
        "subset8 = df_Koppen[df_Koppen['Koppen'] == 8]\n",
        "kop8 = subset8['Srock'].dropna()\n",
        "\n",
        "subset14 = df_Koppen[df_Koppen['Koppen'] == 14]\n",
        "kop14 = subset14['Srock'].dropna()\n",
        "\n",
        "subset17 = df_Koppen[df_Koppen['Koppen'] == 17]\n",
        "kop17 = subset17['Srock'].dropna()\n",
        "\n",
        "subset25 = df_Koppen[df_Koppen['Koppen'] == 25]\n",
        "kop25 = subset25['Srock'].dropna()\n",
        "\n",
        "data = [kop4, kop6, kop8, kop14, kop17, kop25]\n",
        "stats.kruskal(kop4, kop6, kop8, kop14, kop17, kop25)"
      ],
      "execution_count": null,
      "outputs": [
        {
          "output_type": "execute_result",
          "data": {
            "text/plain": [
              "KruskalResult(statistic=367276.55880725855, pvalue=0.0)"
            ]
          },
          "metadata": {
            "tags": []
          },
          "execution_count": 120
        }
      ]
    },
    {
      "cell_type": "code",
      "metadata": {
        "colab": {
          "base_uri": "https://localhost:8080/"
        },
        "id": "2n48AZWLHi4E",
        "outputId": "3227301d-cf38-4536-8ac7-fbba11799669"
      },
      "source": [
        "## KOPPEN KRUSKAL TEST\n",
        "subset4 = df_landcover[df_landcover['Landcover'] == 1]\n",
        "kop1 = subset4['Srock'].dropna()\n",
        "\n",
        "subset6 = df_landcover[df_landcover['Landcover'] == 2]\n",
        "kop2 = subset6['Srock'].dropna()\n",
        "\n",
        "subset8 = df_landcover[df_landcover['Landcover'] == 4]\n",
        "kop4 = subset8['Srock'].dropna()\n",
        "\n",
        "subset14 = df_landcover[df_landcover['Landcover'] == 5]\n",
        "kop5 = subset14['Srock'].dropna()\n",
        "\n",
        "subset17 = df_landcover[df_landcover['Landcover'] == 6]\n",
        "kop6 = subset17['Srock'].dropna()\n",
        "\n",
        "subset25 = df_landcover[df_landcover['Landcover'] == 7]\n",
        "kop7 = subset25['Srock'].dropna()\n",
        "\n",
        "subset8 = df_landcover[df_landcover['Landcover'] == 8]\n",
        "kop8 = subset8['Srock'].dropna()\n",
        "\n",
        "subset14 = df_landcover[df_landcover['Landcover'] == 9]\n",
        "kop9 = subset14['Srock'].dropna()\n",
        "\n",
        "subset17 = df_landcover[df_landcover['Landcover'] == 10]\n",
        "kop10 = subset17['Srock'].dropna()\n",
        "\n",
        "data = [kop1, kop2, kop4, kop5, kop6, kop7, kop8, kop9, kop10]\n",
        "stats.kruskal(kop1, kop2, kop4, kop5, kop6, kop7, kop8, kop9, kop10)"
      ],
      "execution_count": null,
      "outputs": [
        {
          "output_type": "execute_result",
          "data": {
            "text/plain": [
              "KruskalResult(statistic=812445.0514258713, pvalue=0.0)"
            ]
          },
          "metadata": {
            "tags": []
          },
          "execution_count": 123
        }
      ]
    },
    {
      "cell_type": "code",
      "metadata": {
        "colab": {
          "base_uri": "https://localhost:8080/"
        },
        "id": "2viIuu9FJkxd",
        "outputId": "a3c08741-e405-4067-a34c-fcd98047fd7d"
      },
      "source": [
        "import scikit_posthocs as sp"
      ],
      "execution_count": null,
      "outputs": [
        {
          "output_type": "stream",
          "text": [
            "/usr/local/lib/python3.7/dist-packages/statsmodels/tools/_testing.py:19: FutureWarning: pandas.util.testing is deprecated. Use the functions in the public API at pandas.testing instead.\n",
            "  import pandas.util.testing as tm\n"
          ],
          "name": "stderr"
        }
      ]
    },
    {
      "cell_type": "code",
      "metadata": {
        "id": "QC4ZfZ6wfIjM"
      },
      "source": [
        "koppen_dunn = sp.posthoc_dunn(df_Koppen, val_col='Srock', group_col='Koppen_Together', p_adjust=None, sort=True)\n",
        "landcover_dunn = sp.posthoc_dunn(df_landcover, val_col='Srock', group_col='Landcover', p_adjust=None, sort=True)"
      ],
      "execution_count": null,
      "outputs": []
    },
    {
      "cell_type": "code",
      "metadata": {
        "colab": {
          "base_uri": "https://localhost:8080/",
          "height": 233
        },
        "id": "hQRh_puwqUdg",
        "outputId": "86098bee-2667-42ea-b0ba-b87b796fc292"
      },
      "source": [
        "koppen_dunn"
      ],
      "execution_count": null,
      "outputs": [
        {
          "output_type": "execute_result",
          "data": {
            "text/html": [
              "<div>\n",
              "<style scoped>\n",
              "    .dataframe tbody tr th:only-of-type {\n",
              "        vertical-align: middle;\n",
              "    }\n",
              "\n",
              "    .dataframe tbody tr th {\n",
              "        vertical-align: top;\n",
              "    }\n",
              "\n",
              "    .dataframe thead th {\n",
              "        text-align: right;\n",
              "    }\n",
              "</style>\n",
              "<table border=\"1\" class=\"dataframe\">\n",
              "  <thead>\n",
              "    <tr style=\"text-align: right;\">\n",
              "      <th></th>\n",
              "      <th>4</th>\n",
              "      <th>6</th>\n",
              "      <th>8</th>\n",
              "      <th>14</th>\n",
              "      <th>17</th>\n",
              "      <th>25</th>\n",
              "    </tr>\n",
              "  </thead>\n",
              "  <tbody>\n",
              "    <tr>\n",
              "      <th>4</th>\n",
              "      <td>1.0000</td>\n",
              "      <td>0.0000</td>\n",
              "      <td>0.0000</td>\n",
              "      <td>0.0000</td>\n",
              "      <td>0.0000</td>\n",
              "      <td>0.0000</td>\n",
              "    </tr>\n",
              "    <tr>\n",
              "      <th>6</th>\n",
              "      <td>0.0000</td>\n",
              "      <td>1.0000</td>\n",
              "      <td>0.0000</td>\n",
              "      <td>0.0000</td>\n",
              "      <td>0.0000</td>\n",
              "      <td>0.0000</td>\n",
              "    </tr>\n",
              "    <tr>\n",
              "      <th>8</th>\n",
              "      <td>0.0000</td>\n",
              "      <td>0.0000</td>\n",
              "      <td>1.0000</td>\n",
              "      <td>0.0000</td>\n",
              "      <td>0.0000</td>\n",
              "      <td>0.0000</td>\n",
              "    </tr>\n",
              "    <tr>\n",
              "      <th>14</th>\n",
              "      <td>0.0000</td>\n",
              "      <td>0.0000</td>\n",
              "      <td>0.0000</td>\n",
              "      <td>1.0000</td>\n",
              "      <td>0.0000</td>\n",
              "      <td>0.0000</td>\n",
              "    </tr>\n",
              "    <tr>\n",
              "      <th>17</th>\n",
              "      <td>0.0000</td>\n",
              "      <td>0.0000</td>\n",
              "      <td>0.0000</td>\n",
              "      <td>0.0000</td>\n",
              "      <td>1.0000</td>\n",
              "      <td>0.0000</td>\n",
              "    </tr>\n",
              "    <tr>\n",
              "      <th>25</th>\n",
              "      <td>0.0000</td>\n",
              "      <td>0.0000</td>\n",
              "      <td>0.0000</td>\n",
              "      <td>0.0000</td>\n",
              "      <td>0.0000</td>\n",
              "      <td>1.0000</td>\n",
              "    </tr>\n",
              "  </tbody>\n",
              "</table>\n",
              "</div>"
            ],
            "text/plain": [
              "       4      6      8      14     17     25\n",
              "4  1.0000 0.0000 0.0000 0.0000 0.0000 0.0000\n",
              "6  0.0000 1.0000 0.0000 0.0000 0.0000 0.0000\n",
              "8  0.0000 0.0000 1.0000 0.0000 0.0000 0.0000\n",
              "14 0.0000 0.0000 0.0000 1.0000 0.0000 0.0000\n",
              "17 0.0000 0.0000 0.0000 0.0000 1.0000 0.0000\n",
              "25 0.0000 0.0000 0.0000 0.0000 0.0000 1.0000"
            ]
          },
          "metadata": {
            "tags": []
          },
          "execution_count": 127
        }
      ]
    },
    {
      "cell_type": "code",
      "metadata": {
        "colab": {
          "base_uri": "https://localhost:8080/",
          "height": 325
        },
        "id": "TV9BcvY3qoYc",
        "outputId": "08aaf08a-997e-4e57-d7b1-6d9727a3dba2"
      },
      "source": [
        "landcover_dunn"
      ],
      "execution_count": null,
      "outputs": [
        {
          "output_type": "execute_result",
          "data": {
            "text/html": [
              "<div>\n",
              "<style scoped>\n",
              "    .dataframe tbody tr th:only-of-type {\n",
              "        vertical-align: middle;\n",
              "    }\n",
              "\n",
              "    .dataframe tbody tr th {\n",
              "        vertical-align: top;\n",
              "    }\n",
              "\n",
              "    .dataframe thead th {\n",
              "        text-align: right;\n",
              "    }\n",
              "</style>\n",
              "<table border=\"1\" class=\"dataframe\">\n",
              "  <thead>\n",
              "    <tr style=\"text-align: right;\">\n",
              "      <th></th>\n",
              "      <th>1</th>\n",
              "      <th>2</th>\n",
              "      <th>4</th>\n",
              "      <th>5</th>\n",
              "      <th>6</th>\n",
              "      <th>7</th>\n",
              "      <th>8</th>\n",
              "      <th>9</th>\n",
              "      <th>10</th>\n",
              "    </tr>\n",
              "  </thead>\n",
              "  <tbody>\n",
              "    <tr>\n",
              "      <th>1</th>\n",
              "      <td>1.0000</td>\n",
              "      <td>0.0000</td>\n",
              "      <td>0.0000</td>\n",
              "      <td>0.0000</td>\n",
              "      <td>0.0000</td>\n",
              "      <td>0.0000</td>\n",
              "      <td>0.0000</td>\n",
              "      <td>0.0000</td>\n",
              "      <td>0.0000</td>\n",
              "    </tr>\n",
              "    <tr>\n",
              "      <th>2</th>\n",
              "      <td>0.0000</td>\n",
              "      <td>1.0000</td>\n",
              "      <td>0.0000</td>\n",
              "      <td>0.0000</td>\n",
              "      <td>0.0000</td>\n",
              "      <td>0.0000</td>\n",
              "      <td>0.0000</td>\n",
              "      <td>0.0000</td>\n",
              "      <td>0.0000</td>\n",
              "    </tr>\n",
              "    <tr>\n",
              "      <th>4</th>\n",
              "      <td>0.0000</td>\n",
              "      <td>0.0000</td>\n",
              "      <td>1.0000</td>\n",
              "      <td>0.0000</td>\n",
              "      <td>0.0000</td>\n",
              "      <td>0.0000</td>\n",
              "      <td>0.0000</td>\n",
              "      <td>0.0000</td>\n",
              "      <td>0.0000</td>\n",
              "    </tr>\n",
              "    <tr>\n",
              "      <th>5</th>\n",
              "      <td>0.0000</td>\n",
              "      <td>0.0000</td>\n",
              "      <td>0.0000</td>\n",
              "      <td>1.0000</td>\n",
              "      <td>0.0000</td>\n",
              "      <td>0.0000</td>\n",
              "      <td>0.0000</td>\n",
              "      <td>0.0000</td>\n",
              "      <td>0.0000</td>\n",
              "    </tr>\n",
              "    <tr>\n",
              "      <th>6</th>\n",
              "      <td>0.0000</td>\n",
              "      <td>0.0000</td>\n",
              "      <td>0.0000</td>\n",
              "      <td>0.0000</td>\n",
              "      <td>1.0000</td>\n",
              "      <td>0.0000</td>\n",
              "      <td>0.0000</td>\n",
              "      <td>0.0000</td>\n",
              "      <td>0.0000</td>\n",
              "    </tr>\n",
              "    <tr>\n",
              "      <th>7</th>\n",
              "      <td>0.0000</td>\n",
              "      <td>0.0000</td>\n",
              "      <td>0.0000</td>\n",
              "      <td>0.0000</td>\n",
              "      <td>0.0000</td>\n",
              "      <td>1.0000</td>\n",
              "      <td>0.0000</td>\n",
              "      <td>0.0000</td>\n",
              "      <td>0.0000</td>\n",
              "    </tr>\n",
              "    <tr>\n",
              "      <th>8</th>\n",
              "      <td>0.0000</td>\n",
              "      <td>0.0000</td>\n",
              "      <td>0.0000</td>\n",
              "      <td>0.0000</td>\n",
              "      <td>0.0000</td>\n",
              "      <td>0.0000</td>\n",
              "      <td>1.0000</td>\n",
              "      <td>0.0000</td>\n",
              "      <td>0.0000</td>\n",
              "    </tr>\n",
              "    <tr>\n",
              "      <th>9</th>\n",
              "      <td>0.0000</td>\n",
              "      <td>0.0000</td>\n",
              "      <td>0.0000</td>\n",
              "      <td>0.0000</td>\n",
              "      <td>0.0000</td>\n",
              "      <td>0.0000</td>\n",
              "      <td>0.0000</td>\n",
              "      <td>1.0000</td>\n",
              "      <td>0.0000</td>\n",
              "    </tr>\n",
              "    <tr>\n",
              "      <th>10</th>\n",
              "      <td>0.0000</td>\n",
              "      <td>0.0000</td>\n",
              "      <td>0.0000</td>\n",
              "      <td>0.0000</td>\n",
              "      <td>0.0000</td>\n",
              "      <td>0.0000</td>\n",
              "      <td>0.0000</td>\n",
              "      <td>0.0000</td>\n",
              "      <td>1.0000</td>\n",
              "    </tr>\n",
              "  </tbody>\n",
              "</table>\n",
              "</div>"
            ],
            "text/plain": [
              "       1      2      4      5      6      7      8      9      10\n",
              "1  1.0000 0.0000 0.0000 0.0000 0.0000 0.0000 0.0000 0.0000 0.0000\n",
              "2  0.0000 1.0000 0.0000 0.0000 0.0000 0.0000 0.0000 0.0000 0.0000\n",
              "4  0.0000 0.0000 1.0000 0.0000 0.0000 0.0000 0.0000 0.0000 0.0000\n",
              "5  0.0000 0.0000 0.0000 1.0000 0.0000 0.0000 0.0000 0.0000 0.0000\n",
              "6  0.0000 0.0000 0.0000 0.0000 1.0000 0.0000 0.0000 0.0000 0.0000\n",
              "7  0.0000 0.0000 0.0000 0.0000 0.0000 1.0000 0.0000 0.0000 0.0000\n",
              "8  0.0000 0.0000 0.0000 0.0000 0.0000 0.0000 1.0000 0.0000 0.0000\n",
              "9  0.0000 0.0000 0.0000 0.0000 0.0000 0.0000 0.0000 1.0000 0.0000\n",
              "10 0.0000 0.0000 0.0000 0.0000 0.0000 0.0000 0.0000 0.0000 1.0000"
            ]
          },
          "metadata": {
            "tags": []
          },
          "execution_count": 128
        }
      ]
    },
    {
      "cell_type": "code",
      "metadata": {
        "id": "fYHP4K60iWam"
      },
      "source": [
        "# Write the DataFrame to CSV file.\n",
        "with open('/content/drive/MyDrive/Dunn_Koppen.csv', 'w') as f:\n",
        "  koppen_dunn.to_csv(f)"
      ],
      "execution_count": null,
      "outputs": []
    },
    {
      "cell_type": "code",
      "metadata": {
        "id": "KglwxJu7nobU"
      },
      "source": [
        "with open('/content/drive/MyDrive/Dunn_Landcover.csv', 'w') as f:\n",
        "  landcover_dunn.to_csv(f)"
      ],
      "execution_count": null,
      "outputs": []
    },
    {
      "cell_type": "markdown",
      "metadata": {
        "id": "LzbLwXLxif15"
      },
      "source": [
        "## **5. Bedrock water use volume and spatial extent statistics** \n",
        "\n",
        "*Note that the following two sections (sections 6 and 7) rely on code in this section. Please run all 3 sections together for best results.*"
      ]
    },
    {
      "cell_type": "code",
      "metadata": {
        "id": "e6gnJmU7BIBi"
      },
      "source": [
        "# Assets for every year Dbedrock\n",
        "drock04 = ee.Image('users/ericamccormick/20_RockMoisture/deficit/bedrock/Dbedrock_2004')\n",
        "drock05 = ee.Image('users/ericamccormick/20_RockMoisture/deficit/bedrock/Dbedrock_2005')\n",
        "drock06 = ee.Image('users/ericamccormick/20_RockMoisture/deficit/bedrock/Dbedrock_2006')\n",
        "drock07 = ee.Image('users/ericamccormick/20_RockMoisture/deficit/bedrock/Dbedrock_2007')\n",
        "drock08 = ee.Image('users/ericamccormick/20_RockMoisture/deficit/bedrock/Dbedrock_2008')\n",
        "drock09 = ee.Image('users/ericamccormick/20_RockMoisture/deficit/bedrock/Dbedrock_2009')\n",
        "drock10 = ee.Image('users/ericamccormick/20_RockMoisture/deficit/bedrock/Dbedrock_2010')\n",
        "drock11 = ee.Image('users/ericamccormick/20_RockMoisture/deficit/bedrock/Dbedrock_2011')\n",
        "drock12 = ee.Image('users/ericamccormick/20_RockMoisture/deficit/bedrock/Dbedrock_2012')\n",
        "drock13 = ee.Image('users/ericamccormick/20_RockMoisture/deficit/bedrock/Dbedrock_2013')\n",
        "drock14 = ee.Image('users/ericamccormick/20_RockMoisture/deficit/bedrock/Dbedrock_2014')\n",
        "drock15 = ee.Image('users/ericamccormick/20_RockMoisture/deficit/bedrock/Dbedrock_2015')\n",
        "drock16 = ee.Image('users/ericamccormick/20_RockMoisture/deficit/bedrock/Dbedrock_2016')\n",
        "drock17 = ee.Image('users/ericamccormick/20_RockMoisture/deficit/bedrock/Dbedrock_2017')\n",
        "\n",
        "listyears = [drock04, drock05, drock06, drock07, drock08, drock09, drock10, drock11, drock12, drock13, drock14, drock15, drock16, drock17]\n"
      ],
      "execution_count": null,
      "outputs": []
    },
    {
      "cell_type": "markdown",
      "metadata": {
        "id": "E6sjgQ1g_LAv"
      },
      "source": [
        "Assemble areas calculated with conservative thresholding and upscaling approach to 500m:"
      ]
    },
    {
      "cell_type": "code",
      "metadata": {
        "id": "N3xTZpNdoyJK"
      },
      "source": [
        "## Conservative masking layers using thresholding and 500 m scaling\n",
        "woodveg_x_shallowbedrock = ee.Image('users/ericamccormick/20_RockMoisture/masks/woodyVeg_x_shallowBedrock')\n",
        "woodyveg = ee.Image('users/ericamccormick/20_RockMoisture/masks/mask_woodyVeg')\n",
        "shallowbedrock = ee.Image('users/ericamccormick/20_RockMoisture/masks/mask_shallowBedrock')\n",
        "blankconus= ee.Image(1).clip(conus.geometry())\n",
        "\n",
        "woodveg_x_shallowbedrock_Area = woodveg_x_shallowbedrock.gt(0).multiply(ee.Image.pixelArea())\n",
        "woodyveg_AREA = woodyveg.gt(0).multiply(ee.Image.pixelArea())\n",
        "shallowbedrock_AREA = shallowbedrock.gt(0).multiply(ee.Image.pixelArea())\n",
        "blankconus_AREA = ee.Image(1).clip(conus.geometry()).multiply(ee.Image.pixelArea())"
      ],
      "execution_count": null,
      "outputs": []
    },
    {
      "cell_type": "markdown",
      "metadata": {
        "id": "ede2N8tf_Pv7"
      },
      "source": [
        "Calculate areas using nearest neighbor, non-conservative approach:"
      ]
    },
    {
      "cell_type": "code",
      "metadata": {
        "id": "FdB1ETNV_S9n"
      },
      "source": [
        "## Sort USGS landcover by time in reverse to isolate most recent image. Isolate landcover band \n",
        "USGS_landcover = ee.ImageCollection(\"USGS/NLCD\")\n",
        "landsort = USGS_landcover.sort('system:time_start', False) #sort backcwards to get most recent image\n",
        "landsort = landsort.first() # make sure to get just first image\n",
        "img1 = landsort.select('landcover') # select landcover band\n",
        "\n",
        "def getFinal(depth):\n",
        "  ## Combine paralithic, densic and lithic bedrock into one raster with 1's for every pixel greater than depth in cm\n",
        "  m = paralithic.select('b1').lt(depth)\n",
        "  m1 = densic.select('b1').lt(depth)\n",
        "  m2 = lithic.select('b1').lt(depth)\n",
        "  \n",
        "  m3 = m.add(m1).add(m2).gt(0) #m3 = combined densic and lithic lowerthan(depth)\n",
        "\n",
        "  # The evergreen, deciduous, and mixed forest values are 41,42,43\n",
        "  # The shrub value is 52\n",
        "\n",
        "  ## Get shrub at bedrock.lt(depth): \n",
        "  shrub = img1.eq(52) #mask to get all values = 52\n",
        "  temp = shrub.multiply(m3).gt(0) # multiply by bedrock so anywhere where bedrock >depth turns to 0.\n",
        "  shrub_final = temp.multiply(ee.Image(2)) # set shrubs as value 2, everything else 0\n",
        "\n",
        "  ## Get forested at bedrock.lt(depth):\n",
        "  # get classes so forested is 0s with 1s where values 41,42,43. Use function 'reclassify'\n",
        "  forested = img1.remap([41,42,43],[1,1,1],0) #forested.remap([from],[to],defaultVal) , defaultval sets everything else to zerofore\n",
        "  # restrict forested to places with bedrock.lt(depth)\n",
        "  forested_final = forested.multiply(m3)\n",
        "\n",
        "  ## add forested_final and shrub_final:\n",
        "  final = ee.Image(0).add(forested_final).add(shrub_final)\n",
        "  return forested, shrub, forested_final, shrub_final, final\n",
        "\n",
        "forested, shrub, forested_final, shrub_final, final = getFinal(150)\n",
        "woody = forested.add(shrub.gt(0))\n",
        "woody_final = forested_final.add(shrub_final.gt(0))"
      ],
      "execution_count": null,
      "outputs": []
    },
    {
      "cell_type": "markdown",
      "metadata": {
        "id": "xo9u0UPA_TXP"
      },
      "source": [
        "Functions used in calculating statistics"
      ]
    },
    {
      "cell_type": "code",
      "metadata": {
        "id": "40yM0LbMqn0L"
      },
      "source": [
        "# Calculate relative area with CONUS\n",
        "def relArea(numerator,denominator, num_band, den_band):\n",
        "  countnum = numerator.reduceRegion(**{\n",
        "  'reducer': ee.Reducer.sum(),\n",
        "  'geometry': conus.geometry(), \n",
        "  'scale': 500,\n",
        "  'maxPixels': 1e15\n",
        "  })\n",
        "\n",
        "  countden = denominator.reduceRegion(**{\n",
        "  'reducer': ee.Reducer.sum(),\n",
        "  'geometry': conus.geometry(), \n",
        "  'scale': 500,\n",
        "  'maxPixels': 1e15\n",
        "  })\n",
        "\n",
        "  areanum = countnum.get(num_band).getInfo()\n",
        "  areaden = countden.get(den_band).getInfo()\n",
        "\n",
        "  percent = (areanum/areaden)*100\n",
        "  return percent"
      ],
      "execution_count": null,
      "outputs": []
    },
    {
      "cell_type": "markdown",
      "metadata": {
        "id": "Zi1qh2Co0SoS"
      },
      "source": [
        "## **6. ED8** "
      ]
    },
    {
      "cell_type": "markdown",
      "metadata": {
        "id": "flHmv2CNrZkU"
      },
      "source": [
        "Doubling of Ssoil reduces the area where bedrock water is required to explain ET by approximately ##%"
      ]
    },
    {
      "cell_type": "code",
      "metadata": {
        "colab": {
          "base_uri": "https://localhost:8080/"
        },
        "id": "FrcoJH-JrX6H",
        "outputId": "8beeaf71-58fd-475a-beea-79d20fbd7cd5"
      },
      "source": [
        "Ssoil = ee.Image('users/ericamccormick/20_RockMoisture/products/gNATSGO/Ssoil_500m')\n",
        "\n",
        "Sbedrock = ee.Image('users/ericamccormick/20_RockMoisture/deficit/bedrock/Sbedrock')\n",
        "Sbedrock_2xssoil = Sbedrock.subtract(Ssoil)\n",
        "\n",
        "medianDbedrock = ee.Image('users/ericamccormick/20_RockMoisture/deficit/bedrock/Dbedrock_median')\n",
        "Dbedrock_2xssoil = medianDbedrock.subtract(Ssoil)\n",
        "\n",
        "# Reducer function\n",
        "def singleReducer(product,band_name):\n",
        "  amount = product.reduceRegion(**{\n",
        "  'reducer': ee.Reducer.sum(),\n",
        "  'geometry': conus.geometry(), \n",
        "  'scale': 500,\n",
        "  'maxPixels': 1e15\n",
        "  })\n",
        "  result = amount.get(band_name).getInfo()\n",
        "  return result\n",
        "\n",
        "# Area of Sbedrock > 0 in CONUS\n",
        "Sbedrock_pos = Sbedrock.gt(0).multiply(ee.Image.pixelArea())\n",
        "normal_Sbedrock_area = singleReducer(Sbedrock_pos, 'S_R_snow_corr')\n",
        "\n",
        "# Area of Sbedrock > 0 for Ssoilx2 in CONUS\n",
        "Sbedrockx2_pos = Sbedrock_2xssoil.gt(0).multiply(ee.Image.pixelArea())\n",
        "x2_Sbedrock_area = singleReducer(Sbedrockx2_pos, 'S_R_snow_corr')\n",
        "\n",
        "# Area of median Dbedrock > 0 in CONUS\n",
        "Dbedrock_pos = medianDbedrock.gt(0).multiply(ee.Image.pixelArea())\n",
        "normal_Dbedrock_area = singleReducer(Dbedrock_pos, 'b1')\n",
        "\n",
        "# Area of median Dbedrock > 0 for Ssoilx2 in CONUS\n",
        "Dbedrockx2_pos = Dbedrock_2xssoil.gt(0).multiply(ee.Image.pixelArea())\n",
        "normal_Dbedrockx2_area = singleReducer(Dbedrockx2_pos, 'b1')\n",
        "\n",
        "print('Area of Sbedrock > 0:',normal_Sbedrock_area,'m^2')\n",
        "print('Area of Sbedrock > 0 (Ssoilx2):',x2_Sbedrock_area,'m^2\\n')\n",
        "print('Area of median Dbedrock > 0:',normal_Dbedrock_area,'m^2')\n",
        "print('Area of median Dbedrock > 0 (Ssoilx2):',normal_Dbedrockx2_area,'m^2')\n"
      ],
      "execution_count": null,
      "outputs": [
        {
          "output_type": "stream",
          "text": [
            "Area of Sbedrock > 0: 682882047610.0922 m^2\n",
            "Area of Sbedrock > 0 (Ssoilx2): 446541011510.8516 m^2\n",
            "\n",
            "Area of median Dbedrock > 0: 464109701870.60724 m^2\n",
            "Area of median Dbedrock > 0 (Ssoilx2): 203791296585.7501 m^2\n"
          ],
          "name": "stdout"
        }
      ]
    },
    {
      "cell_type": "code",
      "metadata": {
        "colab": {
          "base_uri": "https://localhost:8080/"
        },
        "id": "OTehs90JwfwR",
        "outputId": "95135608-ab5b-4025-f338-e8574bf54dc7"
      },
      "source": [
        "print('Reduction in Dbedrock area:',round(((normal_Dbedrock_area - normal_Dbedrockx2_area)/normal_Dbedrock_area)*100,2),'%')\n",
        "print('Reduction in Sbedrock area:',round(((normal_Sbedrock_area - x2_Sbedrock_area)/normal_Sbedrock_area)*100,2),'%')"
      ],
      "execution_count": null,
      "outputs": [
        {
          "output_type": "stream",
          "text": [
            "Reduction in Dbedrock area: 56.09 %\n",
            "Reduction in Sbedrock area: 34.61 %\n"
          ],
          "name": "stdout"
        }
      ]
    },
    {
      "cell_type": "markdown",
      "metadata": {
        "id": "x2lMql5An48D"
      },
      "source": [
        "What is the area of CONUS where Sbedrock > 0?"
      ]
    },
    {
      "cell_type": "code",
      "metadata": {
        "colab": {
          "base_uri": "https://localhost:8080/"
        },
        "id": "8mkn80zJn48E",
        "outputId": "753aa070-59df-4d10-bbe3-9855f7ed2585"
      },
      "source": [
        "Sbedrock = ee.Image('users/ericamccormick/20_RockMoisture/deficit/bedrock/Sbedrock')\n",
        "positive = Sbedrock.gt(0).clip(conus.geometry())\n",
        "\n",
        "#Multiply by area, converted from m^2 to mm^2\n",
        "posarea = positive.multiply(ee.Image.pixelArea().multiply(1000000))\n",
        "amount = posarea.reduceRegion(**{\n",
        "  'reducer': ee.Reducer.sum(),\n",
        "  'geometry': conus.geometry(), \n",
        "  'scale': 500,\n",
        "  'maxPixels': 1e15\n",
        "  })\n",
        "volume = amount.get('S_R_snow_corr').getInfo()\n",
        "print(round(volume),'mm^2')\n",
        "print(round(volume/1e6),'m^2')\n",
        "print(round(volume/1e+12),'km^2')"
      ],
      "execution_count": null,
      "outputs": [
        {
          "output_type": "stream",
          "text": [
            "682882047610091264 mm^2\n",
            "682882047610 m^2\n",
            "682882 km^2\n"
          ],
          "name": "stdout"
        }
      ]
    },
    {
      "cell_type": "markdown",
      "metadata": {
        "id": "CMEN-qSelccf"
      },
      "source": [
        "What is the area of CA where Dbedrock > 0?"
      ]
    },
    {
      "cell_type": "code",
      "metadata": {
        "colab": {
          "base_uri": "https://localhost:8080/"
        },
        "id": "f-gcnDAmlbaQ",
        "outputId": "63a06fb5-850c-41ba-906a-b50b5756a7a9"
      },
      "source": [
        "medianDbedrock = ee.Image('users/ericamccormick/20_RockMoisture/deficit/bedrock/Dbedrock_median')\n",
        "posarea_volume = medianDbedrock.gt(0).clip(ca.geometry())\n",
        "\n",
        "#Multiply by area, converted from m^2 to mm^2\n",
        "posarea_volume = posarea_volume.multiply(ee.Image.pixelArea().multiply(1000000))\n",
        "amount = posarea_volume.reduceRegion(**{\n",
        "  'reducer': ee.Reducer.sum(),\n",
        "  'geometry': ca.geometry(), \n",
        "  'scale': 500,\n",
        "  'maxPixels': 1e15\n",
        "  })\n",
        "volume = amount.get('b1').getInfo()\n",
        "print(round(volume),'mm^2')\n",
        "print(round(volume/1e6),'m^2')\n",
        "print(round(volume//1.233e+12),'m=acre-feet')"
      ],
      "execution_count": null,
      "outputs": [
        {
          "output_type": "stream",
          "text": [
            "89094199656701808 mm^2\n",
            "89094199657 m^2\n",
            "72258 m=acre-feet\n"
          ],
          "name": "stdout"
        }
      ]
    },
    {
      "cell_type": "markdown",
      "metadata": {
        "id": "xj_FZ0Bcp8ZF"
      },
      "source": [
        "CA volume of bedrock water transpired annually compared to man-made reservoir storage"
      ]
    },
    {
      "cell_type": "code",
      "metadata": {
        "colab": {
          "base_uri": "https://localhost:8080/"
        },
        "id": "OD-E0KVo-h0J",
        "outputId": "c543b4c1-b053-4102-b47d-ed30c11ab4fa"
      },
      "source": [
        "listyears = [drock04, drock05, drock06, drock07, drock08, drock09, drock10, drock11, drock12, drock13, drock14, drock15, drock16, drock17]\n",
        "\n",
        "print('Volume of bedrock water supply transpired annually by woody veg in CA (mm^3)')\n",
        "water = []\n",
        "for i in listyears:\n",
        "  #Make sure negative values are 0 and it is clipped to CA\n",
        "  posarea_volume = i.clip(ca.geometry()).multiply(i.gt(0).clip(ca.geometry()))\n",
        "\n",
        "  #Multiply by area, converted from m^2 to mm^2\n",
        "  posarea_volume = posarea_volume.multiply(ee.Image.pixelArea().multiply(1000000))\n",
        "  amount = posarea_volume.reduceRegion(**{\n",
        "    'reducer': ee.Reducer.sum(),\n",
        "    'geometry': ca.geometry(), \n",
        "    'scale': 500,\n",
        "    'maxPixels': 1e15\n",
        "    })\n",
        "  volume = amount.get('b1').getInfo()\n",
        "  print(round(volume))\n",
        "  water.append(volume)"
      ],
      "execution_count": null,
      "outputs": [
        {
          "output_type": "stream",
          "text": [
            "Volume of bedrock water supply transpired annually by woody veg in CA (mm^3)\n",
            "19255374936829558784\n",
            "13495734051435810816\n",
            "18002028473528006656\n",
            "17227334612290543616\n",
            "20783648212278874112\n",
            "18226072081587699712\n",
            "14542860041463586816\n",
            "12762348676912390144\n",
            "17888091703336679424\n",
            "16257816332388616192\n",
            "16897190140763877376\n",
            "17824517081405693952\n",
            "19014649756089556992\n",
            "20237199337106108416\n"
          ],
          "name": "stdout"
        }
      ]
    },
    {
      "cell_type": "markdown",
      "metadata": {
        "id": "50Lmmo64cTfZ"
      },
      "source": [
        "\n",
        "[Average volume of water stored in all CA reservoirs](https://info.water.ca.gov/cgi-progs/reservoirs/RES): 714200 acre-feet"
      ]
    },
    {
      "cell_type": "code",
      "metadata": {
        "colab": {
          "base_uri": "https://localhost:8080/",
          "height": 246
        },
        "id": "KcyUZK2JbYGL",
        "outputId": "b3880090-2f9d-4f5e-fc5b-79add969da34"
      },
      "source": [
        "# conversion of mm^3 to acre-feet\n",
        "vol = pd.DataFrame()\n",
        "vol['mm3'] = water\n",
        "vol['acrefeet'] = vol['mm3'] /1.233e+12\n",
        "\n",
        "avg_vol_acrefeet = vol['acrefeet'].mean()\n",
        "print('Average volume of bedrock water transpired annually by veg in CA:', round(avg_vol_acrefeet),'acre-feet')\n",
        "print('Volume of bedrock water transpired annually by veg in CA is between', round(vol['acrefeet'].min()),'and',round(vol['acrefeet'].max()),'acre-feet')\n",
        "#print('Volume of bedrock water transpired annually by veg in CA is', round(vol['acrefeet'].min()/714200,2),'to',round(vol['acrefeet'].max()/714200,2), 'the amount of water stored in reservoirs')\n",
        "vol.head()\n"
      ],
      "execution_count": null,
      "outputs": [
        {
          "output_type": "stream",
          "text": [
            "Average volume of bedrock water transpired annually by veg in CA: 14043266 acre-feet\n",
            "Volume of bedrock water transpired annually by veg in CA is between 10350648 and 16856162 acre-feet\n",
            "Volume of bedrock water transpired annually by veg in CA is 14.49 to 23.6 the amount of water stored in reservoirs\n"
          ],
          "name": "stdout"
        },
        {
          "output_type": "execute_result",
          "data": {
            "text/html": [
              "<div>\n",
              "<style scoped>\n",
              "    .dataframe tbody tr th:only-of-type {\n",
              "        vertical-align: middle;\n",
              "    }\n",
              "\n",
              "    .dataframe tbody tr th {\n",
              "        vertical-align: top;\n",
              "    }\n",
              "\n",
              "    .dataframe thead th {\n",
              "        text-align: right;\n",
              "    }\n",
              "</style>\n",
              "<table border=\"1\" class=\"dataframe\">\n",
              "  <thead>\n",
              "    <tr style=\"text-align: right;\">\n",
              "      <th></th>\n",
              "      <th>mm3</th>\n",
              "      <th>acrefeet</th>\n",
              "    </tr>\n",
              "  </thead>\n",
              "  <tbody>\n",
              "    <tr>\n",
              "      <th>0</th>\n",
              "      <td>19255374936829558784.0000</td>\n",
              "      <td>15616686.8912</td>\n",
              "    </tr>\n",
              "    <tr>\n",
              "      <th>1</th>\n",
              "      <td>13495734051435810816.0000</td>\n",
              "      <td>10945445.2972</td>\n",
              "    </tr>\n",
              "    <tr>\n",
              "      <th>2</th>\n",
              "      <td>18002028473528006656.0000</td>\n",
              "      <td>14600185.2989</td>\n",
              "    </tr>\n",
              "    <tr>\n",
              "      <th>3</th>\n",
              "      <td>17227334612290543616.0000</td>\n",
              "      <td>13971885.3303</td>\n",
              "    </tr>\n",
              "    <tr>\n",
              "      <th>4</th>\n",
              "      <td>20783648212278874112.0000</td>\n",
              "      <td>16856162.3782</td>\n",
              "    </tr>\n",
              "  </tbody>\n",
              "</table>\n",
              "</div>"
            ],
            "text/plain": [
              "                        mm3      acrefeet\n",
              "0 19255374936829558784.0000 15616686.8912\n",
              "1 13495734051435810816.0000 10945445.2972\n",
              "2 18002028473528006656.0000 14600185.2989\n",
              "3 17227334612290543616.0000 13971885.3303\n",
              "4 20783648212278874112.0000 16856162.3782"
            ]
          },
          "metadata": {
            "tags": []
          },
          "execution_count": 12
        }
      ]
    },
    {
      "cell_type": "markdown",
      "metadata": {
        "id": "tLxjtiRSqEOe"
      },
      "source": [
        "44-55% of wooded land area in CONUS is characterized as woody veg with shallow bedrock"
      ]
    },
    {
      "cell_type": "code",
      "metadata": {
        "id": "ohJbVjYlqX_T"
      },
      "source": [
        "d = relArea(woodveg_x_shallowbedrock_Area.clip(conus.geometry()), woodyveg_AREA.clip(conus.geometry()), 'b1', 'landcover')\n",
        "d2 = relArea(woody_final.multiply(ee.Image.pixelArea()).clip(conus.geometry()), woody.multiply(ee.Image.pixelArea()).clip(conus.geometry()), 'remapped', 'remapped')"
      ],
      "execution_count": null,
      "outputs": []
    },
    {
      "cell_type": "code",
      "metadata": {
        "colab": {
          "base_uri": "https://localhost:8080/"
        },
        "id": "PW9cK0LE6c1Y",
        "outputId": "41ac5e67-7696-4692-89fc-d27eb656fe10"
      },
      "source": [
        "print('Using conservative thresholding to determine relevant extents,', round(d,2), '% of woody veg in CONUS that overlies shallow bedrock')\n",
        "print('Using nearets neighbor upscaling,',round(d2,2),'% of woody veg in CONUS that overlies shallow bedrock')"
      ],
      "execution_count": null,
      "outputs": [
        {
          "output_type": "stream",
          "text": [
            "Using conservative thresholding to determine relevant extents, 44.2 % of woody veg in CONUS that overlies shallow bedrock\n",
            "Using nearets neighbor upscaling, 55.76 % of woody veg in CONUS that overlies shallow bedrock\n"
          ],
          "name": "stdout"
        }
      ]
    },
    {
      "cell_type": "markdown",
      "metadata": {
        "id": "1W2HImU_qHyH"
      },
      "source": [
        "CA and TX, where at least 28-30% and 5-10% of total land areas respecitvely withdraw bedrock water for transpiration in a given year"
      ]
    },
    {
      "cell_type": "code",
      "metadata": {
        "id": "O3SoPxykoGx4"
      },
      "source": [
        "def getPositiveAreaCA(years):\n",
        "  areas = []\n",
        "  for i in years:\n",
        "  #blankconus = blankconus.gt(0).clip(conus.geometry()).multiply(ee.Image.pixelArea())\n",
        "    posarea = i.clip(ca.geometry()).gt(0).multiply(ee.Image.pixelArea())\n",
        "    area = relArea(posarea, blankconus.clip(ca.geometry()), 'b1','constant')\n",
        "    area = float(area)\n",
        "    areas.append(area)\n",
        "  return areas\n",
        "\n",
        "def getPositiveAreaTX(years):\n",
        "  areas = []\n",
        "  for i in years:\n",
        "  #blankconus = blankconus.gt(0).clip(conus.geometry()).multiply(ee.Image.pixelArea())\n",
        "    posarea = i.clip(tx.geometry()).gt(0).multiply(ee.Image.pixelArea())\n",
        "    area = relArea(posarea, blankconus.clip(tx.geometry()), 'b1','constant')\n",
        "    area = float(area)\n",
        "    areas.append(area)\n",
        "  return areas\n",
        "\n",
        "  \n",
        "tx_areas = getPositiveAreaTX(listyears)\n",
        "ca_areas = getPositiveAreaCA(listyears)\n"
      ],
      "execution_count": null,
      "outputs": []
    },
    {
      "cell_type": "code",
      "metadata": {
        "colab": {
          "base_uri": "https://localhost:8080/"
        },
        "id": "mC0FOsN0YY5D",
        "outputId": "0eedc686-1119-4cdb-d232-10e7eb57e638"
      },
      "source": [
        "print('Area of TX each year with positive Dbedrock:')"
      ],
      "execution_count": null,
      "outputs": [
        {
          "output_type": "stream",
          "text": [
            "Area of TX each year with positive Dbedrock:\n"
          ],
          "name": "stdout"
        }
      ]
    },
    {
      "cell_type": "code",
      "metadata": {
        "colab": {
          "base_uri": "https://localhost:8080/"
        },
        "id": "3_b9n4PiNe7y",
        "outputId": "2b53b4f5-9d51-468f-d87f-f2ed7cb527f7"
      },
      "source": [
        "blankconus = blankconus.gt(0).clip(conus.geometry()).multiply(ee.Image.pixelArea())\n",
        "posarea = drock04.clip(tx.geometry()).gt(0).multiply(ee.Image.pixelArea())\n",
        "area = relArea(posarea, blankconus.clip(tx.geometry()), 'b1','constant')\n",
        "area"
      ],
      "execution_count": null,
      "outputs": [
        {
          "output_type": "execute_result",
          "data": {
            "text/plain": [
              "4.753615335147264"
            ]
          },
          "metadata": {
            "tags": []
          },
          "execution_count": 108
        }
      ]
    },
    {
      "cell_type": "code",
      "metadata": {
        "colab": {
          "base_uri": "https://localhost:8080/"
        },
        "id": "Q5CiEFL3N_Qt",
        "outputId": "4fe2a1ad-33d7-4dec-a3d7-4470c30db5de"
      },
      "source": [
        "for i in listyears:\n",
        "  areas = []\n",
        "  blanktx = blankconus.gt(0).clip(tx.geometry()).multiply(ee.Image.pixelArea())\n",
        "  posarea = i.clip(tx.geometry()).gt(0).multiply(ee.Image.pixelArea())\n",
        "  area = relArea(posarea, blanktx, 'b1','constant')\n",
        "  print(area)\n",
        "  areas.append(area)"
      ],
      "execution_count": null,
      "outputs": [
        {
          "output_type": "stream",
          "text": [
            "4.753615335147264\n",
            "5.7600210145970925\n",
            "5.931898219731429\n",
            "3.524965130222577\n",
            "5.910496803077736\n",
            "5.668920677201892\n",
            "5.511239887231846\n",
            "5.920365838151707\n",
            "5.586064110380709\n",
            "5.49208718355335\n",
            "5.054234023845649\n",
            "5.317599868342313\n",
            "5.06184889083149\n",
            "5.530414462403313\n"
          ],
          "name": "stdout"
        }
      ]
    },
    {
      "cell_type": "code",
      "metadata": {
        "id": "33GZi_FKYcRB"
      },
      "source": [
        "print('Area of CA each year with positive Dbedrock:')"
      ],
      "execution_count": null,
      "outputs": []
    },
    {
      "cell_type": "code",
      "metadata": {
        "colab": {
          "base_uri": "https://localhost:8080/"
        },
        "id": "16gVVSLQYPsD",
        "outputId": "b67b0fca-b34e-4102-d49d-ebe846916f30"
      },
      "source": [
        "for i in listyears:\n",
        "  areas = []\n",
        "  blankca = blankconus.gt(0).clip(ca.geometry()).multiply(ee.Image.pixelArea())\n",
        "  posarea = i.clip(ca.geometry()).gt(0).multiply(ee.Image.pixelArea())\n",
        "  area = relArea(posarea, blankca, 'b1','constant')\n",
        "  print(area)\n",
        "  areas.append(area)"
      ],
      "execution_count": null,
      "outputs": [
        {
          "output_type": "stream",
          "text": [
            "21.61501047230891\n",
            "21.677277350369963\n",
            "21.72818537560118\n",
            "21.34880213559661\n",
            "21.862986499376515\n",
            "21.98613231877858\n",
            "21.85938425837426\n",
            "21.427262129640653\n",
            "21.73665925650015\n",
            "21.52681685547096\n",
            "21.279612098959152\n",
            "21.182023916166198\n",
            "22.09084278610996\n",
            "22.116633864834608\n"
          ],
          "name": "stdout"
        }
      ]
    },
    {
      "cell_type": "markdown",
      "metadata": {
        "id": "FOjVeb6s32FW"
      },
      "source": [
        "## **7. Shallow bedrock / woody vegetation statistics**"
      ]
    },
    {
      "cell_type": "markdown",
      "metadata": {
        "id": "9PdpfNGPp4NB"
      },
      "source": [
        "Densic, lithic, and paralithic bedrock from gNATSGO database (Soil Survey Staff, 2019). Landcover types  from USGS: NLCD (Yang and Xian, 2018).\n"
      ]
    },
    {
      "cell_type": "code",
      "metadata": {
        "id": "5UmqMsosrB6Z"
      },
      "source": [
        "  ## Sort USGS landcover by time in reverse to isolate most recent image. Isolate landcover band \n",
        "USGS_landcover = ee.ImageCollection(\"USGS/NLCD\")\n",
        "landsort = USGS_landcover.sort('system:time_start', False) #sort backcwards to get most recent image\n",
        "landsort = landsort.first() # make sure to get just first image\n",
        "img1 = landsort.select('landcover') # select landcover band"
      ],
      "execution_count": null,
      "outputs": []
    },
    {
      "cell_type": "markdown",
      "metadata": {
        "id": "FNgATn_ZrRAJ"
      },
      "source": [
        "Function to get 5 images based on a given depth to bedrock (depth). The five images are:\n",
        "\n",
        "\n",
        "*   forested: the original extent of forest cover\n",
        "*   shrub: the original extent of shrub cover\n",
        "*   forested_final: the extent of forest overlying soils of thickness <= depth\n",
        "*   shrub_final: the extent of shrub cover overlying soils of thickness <= depth\n",
        "*   final: the combined extent of forest and shrubland overlying soils of thickness <= depth.\n",
        "\n",
        "Throughout, forest is value =1 and shrub is value = 2.\n",
        "\n",
        "\n",
        "\n"
      ]
    },
    {
      "cell_type": "code",
      "metadata": {
        "id": "H0f_SErtrPih"
      },
      "source": [
        "def getFinal(depth):\n",
        "  ## Combine paralithic, densic and lithic bedrock into one raster with 1's for every pixel greater than depth in cm\n",
        "  m = paralithic.select('b1').lt(depth)\n",
        "  m1 = densic.select('b1').lt(depth)\n",
        "  m2 = lithic.select('b1').lt(depth)\n",
        "  \n",
        "  m3 = m.add(m1).add(m2).gt(0) #m3 = combined densic and lithic lowerthan(depth)\n",
        "\n",
        "  # The evergreen, deciduous, and mixed forest values are 41,42,43\n",
        "  # The shrub value is 52\n",
        "\n",
        "  ## Get shrub at bedrock.lt(depth): \n",
        "  shrub = img1.eq(52) #mask to get all values = 52\n",
        "  temp = shrub.multiply(m3).gt(0) # multiply by bedrock so anywhere where bedrock >depth turns to 0.\n",
        "  shrub_final = temp.multiply(ee.Image(2)) # set shrubs as value 2, everything else 0\n",
        "\n",
        "  ## Get forested at bedrock.lt(depth):\n",
        "  # get classes so forested is 0s with 1s where values 41,42,43. Use function 'reclassify'\n",
        "  forested = img1.remap([41,42,43],[1,1,1],0) #forested.remap([from],[to],defaultVal) , defaultval sets everything else to zerofore\n",
        "  # restrict forested to places with bedrock.lt(depth)\n",
        "  forested_final = forested.multiply(m3)\n",
        "\n",
        "  ## add forested_final and shrub_final:\n",
        "  final = ee.Image(0).add(forested_final).add(shrub_final)\n",
        "  return forested, shrub, forested_final, shrub_final, final"
      ],
      "execution_count": null,
      "outputs": []
    },
    {
      "cell_type": "code",
      "metadata": {
        "id": "pL3W3AHAHo3v"
      },
      "source": [
        "## To visualize a layer, replace 'forested' with image of interest:\n",
        "#Image(url = forested.clip(conus.geometry()).getThumbUrl({'min': 0, 'max': 100, 'dimensions': 512,\n",
        "#\n",
        "#                'palette': ['red', 'green','#c29776']}))"
      ],
      "execution_count": null,
      "outputs": []
    },
    {
      "cell_type": "markdown",
      "metadata": {
        "id": "M28sNym0r_1_"
      },
      "source": [
        "Function to extract the final calculation from an ee.Reducer:"
      ]
    },
    {
      "cell_type": "code",
      "metadata": {
        "id": "6ttRVMCnsDah"
      },
      "source": [
        "# Extract info from reduceRegion:\n",
        "def extractReducer(ReducerResult):\n",
        "  temp = ReducerResult.getInfo()\n",
        "  temp = temp.values()\n",
        "  temp = list(temp)\n",
        "  for i in temp:\n",
        "    temp = [int(i)]\n",
        "    temp = temp[0]\n",
        "  return temp"
      ],
      "execution_count": null,
      "outputs": []
    },
    {
      "cell_type": "markdown",
      "metadata": {
        "id": "pCKJpqGfsEHk"
      },
      "source": [
        "Function to calculate the area percentage of one group out of another group over the entire CONUS."
      ]
    },
    {
      "cell_type": "code",
      "metadata": {
        "id": "qE3BR_zMsSo8"
      },
      "source": [
        "# Calculate relative area with CONUS\n",
        "def relArea(numerator,denominator,scale):\n",
        "  countnum = numerator.reduceRegion(**{\n",
        "  'reducer': ee.Reducer.sum(),\n",
        "  'geometry': conus.geometry(), \n",
        "  'scale': scale,\n",
        "  'maxPixels': 1e15\n",
        "  })\n",
        "\n",
        "  countden = denominator.reduceRegion(**{\n",
        "  'reducer': ee.Reducer.sum(),\n",
        "  'geometry': conus.geometry(), \n",
        "  'scale': scale,\n",
        "  'maxPixels': 1e15\n",
        "  })\n",
        "\n",
        "  areanum = extractReducer(countnum)\n",
        "  areaden = extractReducer(countden)\n",
        "\n",
        "  percent = (areanum/areaden)*100\n",
        "  return percent\n"
      ],
      "execution_count": null,
      "outputs": []
    },
    {
      "cell_type": "markdown",
      "metadata": {
        "id": "JA_mNEoEsWyu"
      },
      "source": [
        "Function to get the percent of land area of forest and shrub overlying thin soils (given as a list (depth_toget)) out of the total area of forest and shrub in the continental US. Returns two lists with the percentages for forest and shrub. In order to get the percentages for TX and CA, change the geometry to 'ca' and 'tx' in the relArea function, above."
      ]
    },
    {
      "cell_type": "code",
      "metadata": {
        "id": "vwmdMUSNsfe-"
      },
      "source": [
        "def get_percent(depth_toget,scale):\n",
        "  forest_result = ()\n",
        "  shrub_result = ()\n",
        "  vegtypes = ['forest','shrub']\n",
        "\n",
        "  for depth in depth_toget:\n",
        "    forested, shrub, forested_final, shrub_final, final = getFinal(depth)\n",
        "\n",
        "    # Set all values greater than 0 to 1 and multiply by the pixel areas\n",
        "    forested = forested.gt(0).multiply(ee.Image.pixelArea())\n",
        "    shrub = shrub.gt(0).multiply(ee.Image.pixelArea())\n",
        "    forested_final = forested_final.gt(0).multiply(ee.Image.pixelArea())\n",
        "    shrub_final = shrub_final.gt(0).multiply(ee.Image.pixelArea())\n",
        "\n",
        "    for i in vegtypes:\n",
        "    # Assign images to use for forest or shrub:\n",
        "      if i == 'forest':\n",
        "        forest_percent = relArea(forested_final, forested, scale)\n",
        "\n",
        "      elif i == 'shrub':\n",
        "        shrub_percent = relArea(shrub_final, shrub, scale)\n",
        "\n",
        "    # Make lists to return percentages for forest and shrub\n",
        "    shrub_result = np.append(shrub_result, np.array(shrub_percent))\n",
        "    forest_result = np.append(forest_result, np.array(forest_percent))\n",
        "\n",
        "  return forest_result, shrub_result\n"
      ],
      "execution_count": null,
      "outputs": []
    },
    {
      "cell_type": "markdown",
      "metadata": {
        "id": "zMEdfCm17dDi"
      },
      "source": [
        "Make a cumulative density function for the area of forest and shrubland overlying soils of varying thicknesses"
      ]
    },
    {
      "cell_type": "markdown",
      "metadata": {
        "id": "R1yQDTba7unz"
      },
      "source": [
        "In order to get the curves for Texas and California, change the geometry in the get_percent function and add to dataframe for plotting. Here, only plot for CONUS is shown. "
      ]
    },
    {
      "cell_type": "code",
      "metadata": {
        "id": "m0a0P_Sq7jqq"
      },
      "source": [
        "depth_toget = [5, 10, 15, 20, 25, 30,35, 40, 45, 50, 60, 70,75,80,85,90,95,100,105,110,120,125,130,135,140,145,150]\n",
        "\n",
        "df6 = pd.DataFrame()\n",
        "df6['Forested_us'], df6['Shrub_us'] = get_percent(depth_toget,500)\n",
        "df6['Depth'] = depth_toget"
      ],
      "execution_count": null,
      "outputs": []
    },
    {
      "cell_type": "code",
      "metadata": {
        "colab": {
          "base_uri": "https://localhost:8080/",
          "height": 202
        },
        "id": "lFxp2UA8UWLw",
        "outputId": "313ecd60-844a-4f60-9cf6-c00e2c564c53"
      },
      "source": [
        "df6.tail()"
      ],
      "execution_count": null,
      "outputs": [
        {
          "output_type": "execute_result",
          "data": {
            "text/html": [
              "<div>\n",
              "<style scoped>\n",
              "    .dataframe tbody tr th:only-of-type {\n",
              "        vertical-align: middle;\n",
              "    }\n",
              "\n",
              "    .dataframe tbody tr th {\n",
              "        vertical-align: top;\n",
              "    }\n",
              "\n",
              "    .dataframe thead th {\n",
              "        text-align: right;\n",
              "    }\n",
              "</style>\n",
              "<table border=\"1\" class=\"dataframe\">\n",
              "  <thead>\n",
              "    <tr style=\"text-align: right;\">\n",
              "      <th></th>\n",
              "      <th>Forested_us</th>\n",
              "      <th>Shrub_us</th>\n",
              "      <th>Depth</th>\n",
              "    </tr>\n",
              "  </thead>\n",
              "  <tbody>\n",
              "    <tr>\n",
              "      <th>22</th>\n",
              "      <td>45.759190</td>\n",
              "      <td>55.683917</td>\n",
              "      <td>130</td>\n",
              "    </tr>\n",
              "    <tr>\n",
              "      <th>23</th>\n",
              "      <td>47.628473</td>\n",
              "      <td>56.551104</td>\n",
              "      <td>135</td>\n",
              "    </tr>\n",
              "    <tr>\n",
              "      <th>24</th>\n",
              "      <td>49.454519</td>\n",
              "      <td>57.386991</td>\n",
              "      <td>140</td>\n",
              "    </tr>\n",
              "    <tr>\n",
              "      <th>25</th>\n",
              "      <td>51.238171</td>\n",
              "      <td>58.192936</td>\n",
              "      <td>145</td>\n",
              "    </tr>\n",
              "    <tr>\n",
              "      <th>26</th>\n",
              "      <td>52.907328</td>\n",
              "      <td>58.972222</td>\n",
              "      <td>150</td>\n",
              "    </tr>\n",
              "  </tbody>\n",
              "</table>\n",
              "</div>"
            ],
            "text/plain": [
              "    Forested_us   Shrub_us  Depth\n",
              "22    45.759190  55.683917    130\n",
              "23    47.628473  56.551104    135\n",
              "24    49.454519  57.386991    140\n",
              "25    51.238171  58.192936    145\n",
              "26    52.907328  58.972222    150"
            ]
          },
          "metadata": {
            "tags": []
          },
          "execution_count": 34
        }
      ]
    },
    {
      "cell_type": "code",
      "metadata": {
        "colab": {
          "base_uri": "https://localhost:8080/",
          "height": 777
        },
        "id": "Akt_X4t7Dv6b",
        "outputId": "01aa005c-1e85-4913-8f61-0ac3b96e54f8"
      },
      "source": [
        "plt.figure(dpi=300)\n",
        "\n",
        "plt.plot(df6['Depth'],df6['Shrub_us'],color='#d19d5e')\n",
        "plt.plot(df6['Depth'],df6['Forested_us'],color='green')\n",
        "plt.ylim(0,90)\n",
        "plt.title('CONUS')\n",
        "plt.xlabel('Depth to in-situ Bedrock (mm)');\n",
        "plt.ylabel('Percent of Area')\n",
        "plt.legend(loc='best')\n",
        "\n",
        "#plt.plot([10,150],[52.6,52.6],linewidth=2,linestyle = 'dashed',color='black')\n",
        "#plt.plot([10,150],[59.5,59.5],linewidth=2,color='grey')\n",
        "\n",
        "plt.annotate('53% of forest in the US\\nis located where bedrock\\nis encountered within\\n150 cm of the surface', xy=(170, 52.6), xytext=(190, 25), arrowprops=dict(arrowstyle = \"->\",facecolor='black'), annotation_clip = False)\n",
        "plt.annotate('59% of scrubland in the US\\nis located where bedrock\\nis encountered within\\n150 cm of the surface', xy=(170, 58.5), xytext=(190, 55), arrowprops=dict(arrowstyle = \"->\",facecolor='black'), annotation_clip = False)\n",
        "        \n",
        "# Uncomment to save figure\n",
        "#plt.savefig(\"forest_lines.pdf\", transparent=True)\n",
        "#files.download(\"forest_lines.pdf\") "
      ],
      "execution_count": null,
      "outputs": [
        {
          "output_type": "stream",
          "text": [
            "No handles with labels found to put in legend.\n"
          ],
          "name": "stderr"
        },
        {
          "output_type": "execute_result",
          "data": {
            "text/plain": [
              "Text(190, 55, '59% of scrubland in the US\\nis located where bedrock\\nis encountered within\\n150 cm of the surface')"
            ]
          },
          "metadata": {
            "tags": []
          },
          "execution_count": 38
        },
        {
          "output_type": "stream",
          "text": [
            "findfont: Font family ['sans-serif'] not found. Falling back to DejaVu Sans.\n"
          ],
          "name": "stderr"
        },
        {
          "output_type": "display_data",
          "data": {
            "image/png": "[encoded data removed]",
            "text/plain": [
              "<Figure size 1800x1200 with 1 Axes>"
            ]
          },
          "metadata": {
            "tags": [],
            "needs_background": "light"
          }
        }
      ]
    },
    {
      "cell_type": "markdown",
      "metadata": {
        "id": "j3a_hAeFPmtT"
      },
      "source": [
        "## **8. ED4**"
      ]
    },
    {
      "cell_type": "markdown",
      "metadata": {
        "id": "oZBD54iUolUW"
      },
      "source": [
        "Calculate median $D_{bedrock,y}$"
      ]
    },
    {
      "cell_type": "code",
      "metadata": {
        "id": "8oVW0uxxy7-_"
      },
      "source": [
        "Dbedrock_2004 = ee.Image('users/ericamccormick/20_RockMoisture/deficit/bedrock/Dbedrock_2004')\n",
        "Dbedrock_2005= ee.Image('users/ericamccormick/20_RockMoisture/deficit/bedrock/Dbedrock_2005')\n",
        "Dbedrock_2006 = ee.Image('users/ericamccormick/20_RockMoisture/deficit/bedrock/Dbedrock_2006')\n",
        "Dbedrock_2007 = ee.Image('users/ericamccormick/20_RockMoisture/deficit/bedrock/Dbedrock_2007')\n",
        "Dbedrock_2008 = ee.Image('users/ericamccormick/20_RockMoisture/deficit/bedrock/Dbedrock_2008')\n",
        "Dbedrock_2009 = ee.Image('users/ericamccormick/20_RockMoisture/deficit/bedrock/Dbedrock_2009')\n",
        "Dbedrock_2010 = ee.Image('users/ericamccormick/20_RockMoisture/deficit/bedrock/Dbedrock_2010')\n",
        "Dbedrock_2011 = ee.Image('users/ericamccormick/20_RockMoisture/deficit/bedrock/Dbedrock_2011')\n",
        "Dbedrock_2012 = ee.Image('users/ericamccormick/20_RockMoisture/deficit/bedrock/Dbedrock_2012')\n",
        "Dbedrock_2013 = ee.Image('users/ericamccormick/20_RockMoisture/deficit/bedrock/Dbedrock_2013')\n",
        "Dbedrock_2014 = ee.Image('users/ericamccormick/20_RockMoisture/deficit/bedrock/Dbedrock_2014')\n",
        "Dbedrock_2015 = ee.Image('users/ericamccormick/20_RockMoisture/deficit/bedrock/Dbedrock_2015')\n",
        "Dbedrock_2016 = ee.Image('users/ericamccormick/20_RockMoisture/deficit/bedrock/Dbedrock_2016')\n",
        "Dbedrock_2017 = ee.Image('users/ericamccormick/20_RockMoisture/deficit/bedrock/Dbedrock_2017')\n",
        "\n",
        "mask_reproj = ee.Image('users/ericamccormick/20_RockMoisture/masks/mask_reproj')"
      ],
      "execution_count": null,
      "outputs": []
    },
    {
      "cell_type": "code",
      "metadata": {
        "id": "HUtbQBl8opNT"
      },
      "source": [
        "# Combine images from each year into an image collection with all years\n",
        "Dbedrock_all = ee.ImageCollection([Dbedrock_2004, Dbedrock_2005, Dbedrock_2006, Dbedrock_2007, Dbedrock_2008, Dbedrock_2009, Dbedrock_2010, Dbedrock_2011, Dbedrock_2012, Dbedrock_2013, Dbedrock_2014, Dbedrock_2015, Dbedrock_2016, Dbedrock_2017])\n",
        "\n",
        "# Make sure it is masked by correct stuff\n",
        "#(SEND MASK AS AN ASSET FROM COMPILED CODE 1 THEN RE-IMPORT HERE)\n",
        "Dbedrock_all = Dbedrock_all"
      ],
      "execution_count": null,
      "outputs": []
    },
    {
      "cell_type": "code",
      "metadata": {
        "id": "kkVqIqJoo6cf"
      },
      "source": [
        "# Get the mean of each cumulative annual precip\n",
        "Dbedrock_median = Dbedrock_all.reduce(**{\n",
        "    'reducer': ee.Reducer.median(),\n",
        "  }).updateMask(mask_reproj)\n",
        "\n",
        "Dbedrock_mean = Dbedrock_all.reduce(**{\n",
        "    'reducer': ee.Reducer.mean(),\n",
        "  }).updateMask(mask_reproj)\n",
        "\n",
        "Dbedrock_stdev = Dbedrock_all.reduce(**{\n",
        "    'reducer': ee.Reducer.stdDev(),\n",
        "  }).updateMask(mask_reproj)"
      ],
      "execution_count": null,
      "outputs": []
    },
    {
      "cell_type": "code",
      "metadata": {
        "id": "2CPZhqkuGLQJ"
      },
      "source": [
        "## For Figure 1, find how many years a pixel has >0 Dbedrock for\n",
        "def setBinary(image):\n",
        "  temp = image.gt(0)\n",
        "  return temp\n",
        "\n",
        "Dbedrock_binary = Dbedrock_all.map(setBinary)\n",
        "\n",
        "Dbedrock_count_years = Dbedrock_binary.reduce(**{\n",
        "    'reducer': ee.Reducer.sum(),\n",
        "  }).updateMask(mask_reproj)"
      ],
      "execution_count": null,
      "outputs": []
    },
    {
      "cell_type": "code",
      "metadata": {
        "id": "cvcR2xQuFSYd"
      },
      "source": [
        "task_config = {\n",
        "        'region': conus.geometry(),\n",
        "        'fileFormat': 'GeoTIFF',\n",
        "        'fileNamePrefix': 'Dbedrock_count_years', #change the name to reflect parameters\n",
        "        'image': Dbedrock_count_years.clip(conus.geometry()).toDouble(),\n",
        "        'description': 'Dbedrock_count_years',\n",
        "        'scale': 500,\n",
        "        'maxPixels': 10000000000000,\n",
        "        'crs':'EPSG:4326'\n",
        "    }\n",
        "\n",
        "\n",
        "task=ee.batch.Export.image.toDrive(**task_config)\n",
        "task.start()"
      ],
      "execution_count": null,
      "outputs": []
    },
    {
      "cell_type": "markdown",
      "metadata": {
        "id": "dfT71fyRBhSZ"
      },
      "source": [
        "First calculate mean annual water year precipitation (MAP) from 2003-2017 using PRISM dataset (Daly, 2008)."
      ]
    },
    {
      "cell_type": "code",
      "metadata": {
        "id": "RTYMPMIgK-NZ"
      },
      "source": [
        "## define function to take the annual sum of precipitation \n",
        "def annualSum(startyear,stopyear):\n",
        "  start = str(startyear) +\"-10-01\"\n",
        "  stop = str(stopyear)+\"-09-30\"\n",
        "  prism = ee.ImageCollection('OREGONSTATE/PRISM/AN81d').select('ppt').filterDate(start, stop)\n",
        "  MAP = prism.reduce(**{\n",
        "    'reducer': ee.Reducer.sum(),\n",
        "  })\n",
        "  return MAP"
      ],
      "execution_count": null,
      "outputs": []
    },
    {
      "cell_type": "code",
      "metadata": {
        "id": "l2qEn8lruYWK"
      },
      "source": [
        "## get the sum of precipitation each year\n",
        "MAP2004 = annualSum(2003,2004)\n",
        "MAP2005 = annualSum(2004,2005)\n",
        "MAP2006 = annualSum(2005,2006)\n",
        "MAP2007 = annualSum(2006,2007)\n",
        "MAP2008 = annualSum(2007,2008)\n",
        "MAP2009 = annualSum(2008,2009)\n",
        "MAP2010 = annualSum(2009,2010)\n",
        "MAP2011 = annualSum(2010,2011)\n",
        "MAP2012 = annualSum(2011,2012)\n",
        "MAP2013 = annualSum(2012,2013)\n",
        "MAP2014 = annualSum(2013,2014)\n",
        "MAP2015 = annualSum(2014,2015)\n",
        "MAP2016 = annualSum(2015,2016)\n",
        "MAP2017 = annualSum(2016,2017)"
      ],
      "execution_count": null,
      "outputs": []
    },
    {
      "cell_type": "code",
      "metadata": {
        "id": "xpq-Q7n8IT4K"
      },
      "source": [
        "# Combine images from each year into an image collection with all years\n",
        "MAP = ee.ImageCollection([MAP2004, MAP2005, MAP2006, MAP2007, MAP2008, MAP2009, MAP2010, MAP2011, MAP2012, MAP2013, MAP2014, MAP2015, MAP2016, MAP2017])"
      ],
      "execution_count": null,
      "outputs": []
    },
    {
      "cell_type": "code",
      "metadata": {
        "id": "sYqizqfQI6lE"
      },
      "source": [
        "# Get the mean of each cumulative annual precip\n",
        "MAP_Mean = MAP.reduce(**{\n",
        "    'reducer': ee.Reducer.mean(),\n",
        "  })"
      ],
      "execution_count": null,
      "outputs": []
    },
    {
      "cell_type": "markdown",
      "metadata": {
        "id": "3-uzyXRkA6pC"
      },
      "source": [
        "Export to drive and as GEE asset"
      ]
    },
    {
      "cell_type": "code",
      "metadata": {
        "id": "1c9NS-Ys7q7U"
      },
      "source": [
        "# Export Image to Google Drive\n",
        "to_export = MAP_Mean.clip(conus.geometry()).toDouble()\n",
        "\n",
        "task_config = {\n",
        "        'region': conus.geometry(),\n",
        "        'fileFormat': 'GeoTIFF',\n",
        "        'fileNamePrefix': 'MAP', #change the name to reflect parameters\n",
        "        'image': to_export,\n",
        "        'description': 'MAP',\n",
        "        'scale': 500,\n",
        "        'maxPixels': 10000000000000,\n",
        "        'crs':'EPSG:4326'\n",
        "    }\n",
        "\n",
        "\n",
        "task=ee.batch.Export.image.toDrive(**task_config)\n",
        "task.start()"
      ],
      "execution_count": null,
      "outputs": []
    },
    {
      "cell_type": "code",
      "metadata": {
        "id": "hzcRXDP2dRFG"
      },
      "source": [
        "task_config = {\n",
        "        'region': conus.geometry(),\n",
        "        'image': MAP_Mean.clip(conus.geometry()),\n",
        "        'description': 'MAP',\n",
        "        'assetId' : 'users/ericamccormick/MAP',\n",
        "        'scale': 500,\n",
        "        'maxPixels': 10000000000000\n",
        "    }\n",
        "\n",
        "task=ee.batch.Export.image.toAsset(**task_config)\n",
        "task.start()"
      ],
      "execution_count": null,
      "outputs": []
    },
    {
      "cell_type": "code",
      "metadata": {
        "id": "q1injuoDBF9P"
      },
      "source": [
        "task_config = {\n",
        "        'region': conus.geometry(),\n",
        "        'image': MAP,\n",
        "        'description': 'annual_wateryear_precip',\n",
        "        'assetId' : 'users/ericamccormick/annual_wateryear_precip',\n",
        "        'scale': 500,\n",
        "        'maxPixels': 10000000000000\n",
        "    }\n",
        "\n",
        "task=ee.batch.Export.image.toAsset(**task_config)\n",
        "task.start()"
      ],
      "execution_count": null,
      "outputs": []
    },
    {
      "cell_type": "markdown",
      "metadata": {
        "id": "q8dZp1z7CYAZ"
      },
      "source": [
        "Calculate ratio of mean $D_{bedrock}$ and $S_{bedrock}$ with MAP"
      ]
    },
    {
      "cell_type": "code",
      "metadata": {
        "id": "7yuJmx1p21Fi"
      },
      "source": [
        "MAP_percent_Dbedrock_median_zeros = Dbedrock_median_zeros.divide(MAP_Mean)"
      ],
      "execution_count": null,
      "outputs": []
    },
    {
      "cell_type": "code",
      "metadata": {
        "id": "_xTDYQt3MMbt"
      },
      "source": [
        "# Calculate Sbedrock divided by MAP\n",
        "Sbedrock_gt0 = Sbedrock.gt(0).multiply(Sbedrock)\n",
        "ratio_StoMAP = Sbedrock_gt0.divide(MAP_Mean)"
      ],
      "execution_count": null,
      "outputs": []
    },
    {
      "cell_type": "code",
      "metadata": {
        "id": "nLfTP4PoMeVZ"
      },
      "source": [
        "# Export to drive\n",
        "to_export =MAP_percent_Dbedrock_median_zeros.clip(conus.geometry())\n",
        "\n",
        "task_config = {\n",
        "        'region': conus.geometry(),\n",
        "        'fileFormat': 'GeoTIFF',\n",
        "        'fileNamePrefix': 'MAP_percent_Dbedrock_median_zeros', #change the name to reflect parameters\n",
        "        'image': to_export,\n",
        "        'description': 'MAP_percent_Dbedrock_median_zeros',\n",
        "        'scale': 1000,\n",
        "        'maxPixels': 10000000000000,\n",
        "        'crs':'EPSG:4326'\n",
        "    }\n",
        "\n",
        "\n",
        "task=ee.batch.Export.image.toDrive(**task_config)\n",
        "task.start()"
      ],
      "execution_count": null,
      "outputs": []
    },
    {
      "cell_type": "markdown",
      "metadata": {
        "id": "BKG5RjSRapGE"
      },
      "source": [
        "## **9. Above-ground carbon statistics**"
      ]
    },
    {
      "cell_type": "markdown",
      "metadata": {
        "id": "MTzbFLFvqH3H"
      },
      "source": [
        "woody veg that withdraws bedrock water for ET on an annual basis (green in fig1) accounts for over 49% of CAs aboveground carbon stocks (490 Tg of carbon)"
      ]
    },
    {
      "cell_type": "code",
      "metadata": {
        "colab": {
          "base_uri": "https://localhost:8080/"
        },
        "id": "0337QuXj9E-U",
        "outputId": "fe5095d3-1ff0-4df8-f987-c3300d3cfa5d"
      },
      "source": [
        "ca_carbon = ee.Image('users/ericamccormick/aboveground_biomass_carbon_2010_scaled_CA') #Mg carbon /hectar\n",
        "med_dbedrock = ee.Image('users/ericamccormick/20_RockMoisture/deficit/bedrock/Dbedrock_median')\n",
        "\n",
        "carbon_Mg = ca_carbon.multiply(ee.Image.pixelArea()).divide(10000) #Mg carbon\n",
        "tot_ca_carbon = carbon_Mg.reduceRegion(**{\n",
        "  'reducer': ee.Reducer.sum(),\n",
        "  'geometry': ca.geometry(), \n",
        "  'scale': 500,\n",
        "  'maxPixels': 1e15\n",
        "  })\n",
        "total = tot_ca_carbon.get('b1').getInfo()\n",
        "\n",
        "\n",
        "pos_dbedrock_ca_carbon = carbon_Mg.updateMask(med_dbedrock.gt(0)).reduceRegion(**{\n",
        "  'reducer': ee.Reducer.sum(),\n",
        "  'geometry': ca.geometry(), \n",
        "  'scale': 500,\n",
        "  'maxPixels': 1e15\n",
        "  })\n",
        "pos_dbedrock_carbon = pos_dbedrock_ca_carbon.get('b1').getInfo()\n",
        "\n",
        "print(round((pos_dbedrock_carbon/total)*100),'% of CA above-ground carbon stocks are in places where median Dbedrock > 0')\n",
        "print('This amount of carbon is',round(pos_dbedrock_carbon),'Mg, which is equal to',round(pos_dbedrock_carbon/1e6),'Tg')"
      ],
      "execution_count": null,
      "outputs": [
        {
          "output_type": "stream",
          "text": [
            "49 % of CA above-ground carbon stocks are in places where median Dbedrock > 0\n",
            "This amount of carbon is 489891787 Mg, which is equal to 490 Tg\n"
          ],
          "name": "stdout"
        }
      ]
    },
    {
      "cell_type": "markdown",
      "metadata": {
        "id": "6WLLUaEdy_s_"
      },
      "source": [
        "##**References**"
      ]
    },
    {
      "cell_type": "markdown",
      "metadata": {
        "id": "hYver4lhzDln"
      },
      "source": [
        "Daly, Christopher, et al. \"Physiographically sensitive mapping of climatological temperature and precipitation across the conterminous United States.\" International Journal of Climatology: a Journal of the Royal Meteorological Society 28.15 (2008): 2031-2064.\n",
        "\n",
        "Dralle, D. N., Hahm, W. J., Chadwick, K. D., McCormick, E., and Rempe, D. M.: Technical note: Accounting for snow in the estimation of root zone water storage capacity from precipitation and evapotranspiration fluxes, Hydrol. Earth Syst. Sci., 25, 2861–2867, https://doi.org/10.5194/hess-25-2861-2021, 2021.\n",
        "\n",
        "Peel, M. C., Finlayson, B. L., and McMahon, T. A.: Updated world map of the Köppen-Geiger climate classification, Hydrol. Earth Syst. Sci., 11, 1633–1644, https://doi.org/10.5194/hess-11-1633-2007, 2007.\n",
        "\n",
        "Soil Survey Staff. Gridded National Soil Survey Geographic (gNATSGO) Database for the Conterminous United States. United States Department of Agriculture, Natural Resources Conservation Service. Available online at https://nrcs.app.box.com/v/soils. December 1, 2020 (FY2020 official release).\n",
        "\n",
        "Spawn, S.A., and H.K. Gibbs. 2020. Global Aboveground and Belowground Biomass Carbon Density Maps for the Year 2010. ORNL DAAC, Oak Ridge, Tennessee, USA. https://doi.org/10.3334/ORNLDAAC/1763.\n",
        "\n",
        "Zhang, Yongqiang, et al. \"Coupled estimation of 500 m and 8-day resolution global evapotranspiration and gross primary production in 2002–2017.\" Remote Sensing of Environment 222 (2019): 165-182.\n",
        "\n",
        "\n",
        "\n"
      ]
    },
    {
      "cell_type": "code",
      "metadata": {
        "id": "K3cZ1HXbzD1v"
      },
      "source": [
        ""
      ],
      "execution_count": null,
      "outputs": []
    }
  ]
}